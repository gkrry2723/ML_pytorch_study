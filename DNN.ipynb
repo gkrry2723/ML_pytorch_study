{
  "nbformat": 4,
  "nbformat_minor": 0,
  "metadata": {
    "colab": {
      "name": "DNN.ipynb",
      "provenance": [],
      "authorship_tag": "ABX9TyPMYxFIF5Gp6ZkUlNBxPZs3",
      "include_colab_link": true
    },
    "kernelspec": {
      "name": "python3",
      "display_name": "Python 3"
    },
    "accelerator": "GPU"
  },
  "cells": [
    {
      "cell_type": "markdown",
      "metadata": {
        "id": "view-in-github",
        "colab_type": "text"
      },
      "source": [
        "<a href=\"https://colab.research.google.com/github/gkrry2723/ML_pytorch_study/blob/master/DNN.ipynb\" target=\"_parent\"><img src=\"https://colab.research.google.com/assets/colab-badge.svg\" alt=\"Open In Colab\"/></a>"
      ]
    },
    {
      "cell_type": "markdown",
      "metadata": {
        "id": "_3tG2SVTfmqu",
        "colab_type": "text"
      },
      "source": [
        "# **DNN**\n",
        "\n"
      ]
    },
    {
      "cell_type": "markdown",
      "metadata": {
        "id": "vqnB6wgUfzxl",
        "colab_type": "text"
      },
      "source": [
        "####**1. DNN 1 layer**\n",
        "- xor 불가\n",
        "- DNN으로 xor하는 코드"
      ]
    },
    {
      "cell_type": "code",
      "metadata": {
        "id": "IxOVAO_nflQW",
        "colab_type": "code",
        "colab": {}
      },
      "source": [
        "import torch\n",
        "import torch.optim as optim\n",
        "import torch.nn as nn\n",
        "import torch.nn.functional as F\n",
        "\n",
        "#데이터\n",
        "X=torch.FloatTensor([[0,0],[0,1],[1,0],[1,1]])\n",
        "Y=torch.FloatTensor([[0],[1],[1],[0]])\n",
        "\n",
        "#model 만들기\n",
        "#layer 선언-fully connected\n",
        "linear=torch.nn.Linear(2,1,bias=True)\n",
        "#activation function으로 sigmoid 선택\n",
        "sigmoid=torch.nn.Sigmoid()\n",
        "model=torch.nn.Sequential(linear,sigmoid)\n",
        "\n",
        "#loss define- binary cross entrophy loss\n",
        "criterion=torch.nn.BCELoss()\n",
        "#optimizer define\n",
        "optimizer=torch.optim.SGD(model.parameters(),lr=1)\n",
        "\n",
        "for step in range(10001):\n",
        "  optimizer.zero_grad()\n",
        "  #perceptron에 X를 넣자\n",
        "  hypothesis = model(X)\n",
        "\n",
        "  #hypothesis와 Y의 차이를 cost로 하는 줄인듯!\n",
        "  cost=criterion(hypothesis,Y)\n",
        "  cost.backward()\n",
        "  \n",
        "  optimizer.step()\n",
        "\n",
        "  if step%100==0:\n",
        "    print(step, cost.item())"
      ],
      "execution_count": null,
      "outputs": []
    },
    {
      "cell_type": "markdown",
      "metadata": {
        "id": "IjNFNBhCfzAm",
        "colab_type": "text"
      },
      "source": [
        "####**2. DNN multi layer**\n"
      ]
    },
    {
      "cell_type": "code",
      "metadata": {
        "id": "pQPP-mnQn66-",
        "colab_type": "code",
        "colab": {
          "base_uri": "https://localhost:8080/",
          "height": 210
        },
        "outputId": "7adc1a1b-62ea-44d2-a942-4087ae335b13"
      },
      "source": [
        "import torch\n",
        "import torch.optim as optim\n",
        "import torch.nn as nn\n",
        "import torch.nn.functional as F\n",
        "\n",
        "#데이터\n",
        "X=torch.FloatTensor([[0,0],[0,1],[1,0],[1,1]])\n",
        "Y=torch.FloatTensor([[0],[1],[1],[0]])\n",
        "\n",
        "#model 만들기\n",
        "#layer 선언-fully connected\n",
        "linear1=torch.nn.Linear(2,2,bias=True)\n",
        "linear2=torch.nn.Linear(2,1,bias=True)\n",
        "#activation function으로 sigmoid 선택\n",
        "sigmoid=torch.nn.Sigmoid()\n",
        "model=torch.nn.Sequential(linear1,sigmoid,linear2,sigmoid)\n",
        "\n",
        "#loss define- binary cross entrophy loss\n",
        "criterion=torch.nn.BCELoss()\n",
        "#optimizer define\n",
        "optimizer=torch.optim.SGD(model.parameters(),lr=1)\n",
        "\n",
        "for step in range(10001):\n",
        "  optimizer.zero_grad()\n",
        "  #perceptron에 X를 넣자\n",
        "  hypothesis = model(X)\n",
        "\n",
        "  #hypothesis와 Y의 차이를 cost로 하는 줄인듯!\n",
        "  cost=criterion(hypothesis,Y)\n",
        "  cost.backward()\n",
        "  \n",
        "  optimizer.step()\n",
        "\n",
        "  if step%1000==0:\n",
        "    print(step, cost.item())"
      ],
      "execution_count": 5,
      "outputs": [
        {
          "output_type": "stream",
          "text": [
            "0 0.694481372833252\n",
            "1000 0.01794702187180519\n",
            "2000 0.006236325949430466\n",
            "3000 0.003743944223970175\n",
            "4000 0.002669042907655239\n",
            "5000 0.0020716949366033077\n",
            "6000 0.001691974001005292\n",
            "7000 0.0014294086722657084\n",
            "8000 0.0012371568009257317\n",
            "9000 0.0010902927024289966\n",
            "10000 0.0009744912385940552\n"
          ],
          "name": "stdout"
        }
      ]
    },
    {
      "cell_type": "markdown",
      "metadata": {
        "id": "OFDYBoMcsKcD",
        "colab_type": "text"
      },
      "source": [
        "####**3. DNN with ReLU**\n",
        "- MNIST ReLU랑 Adam 이용해서 해보기\n",
        "- sigmoid의 문제점: 앞쪽으로 갈수록 **gradient vanish**가 될 수 있는 문제가 생김\n",
        "- ReLU는 f(x)=max(0,x)여서 gradient vanish가 되지 않음"
      ]
    },
    {
      "cell_type": "code",
      "metadata": {
        "id": "ffPF5W4IsT_0",
        "colab_type": "code",
        "colab": {
          "base_uri": "https://localhost:8080/",
          "height": 670
        },
        "outputId": "976e6027-90d7-4356-b91e-c3e13032fec1"
      },
      "source": [
        "import torch\n",
        "import torchvision.datasets as dsets\n",
        "import torchvision.transforms as transforms\n",
        "import matplotlib.pyplot as plt\n",
        "import random\n",
        "\n",
        "device = 'cuda' if torch.cuda.is_available() else 'cpu'\n",
        "\n",
        "# for reproducibility\n",
        "random.seed(777)\n",
        "torch.manual_seed(777)\n",
        "if device == 'cuda':\n",
        "    torch.cuda.manual_seed_all(777)\n",
        "\n",
        "# parameters\n",
        "training_epochs = 15\n",
        "batch_size = 100\n",
        "\n",
        "#MNIST dataset\n",
        "#root: 경로 || train: true일때-trainset 불러오기/false일때-testset 불러오기 \n",
        "mnist_train = dsets.MNIST(root='MNIST_data/',\n",
        "                          train=True,\n",
        "                          transform=transforms.ToTensor(),\n",
        "                          download=True)\n",
        "\n",
        "mnist_test = dsets.MNIST(root='MNIST_data/',\n",
        "                         train=False,\n",
        "                         transform=transforms.ToTensor(),\n",
        "                         download=True)\n",
        "\n",
        "# dataset loader\n",
        "data_loader = torch.utils.data.DataLoader(dataset=mnist_train,\n",
        "                                          batch_size=batch_size,\n",
        "                                          shuffle=True,\n",
        "                                          drop_last=True)\n",
        "\n",
        "# MNIST data image of shape 28 * 28 = 784\n",
        "# class 개수: 10\n",
        "linear1 = torch.nn.Linear(784, 256, bias=True).to(device)\n",
        "linear2 = torch.nn.Linear(256, 256, bias=True).to(device)\n",
        "linear3 = torch.nn.Linear(256, 10, bias=True).to(device)\n",
        "relu = torch.nn.ReLU()\n",
        "\n",
        "#initialization- weight들 다 normal distribution 따를 수 있도록!\n",
        "torch.nn.init.normal_(linear1.weight)\n",
        "torch.nn.init.normal_(linear2.weight)\n",
        "torch.nn.init.normal_(linear3.weight)\n",
        "\n",
        "model = torch.nn.Sequential(linear1,relu,linear2,relu,linear3)\n",
        "\n",
        "# define cost/loss & optimizer\n",
        "criterion = torch.nn.CrossEntropyLoss()    # Softmax is internally computed.\n",
        "optimizer = torch.optim.Adam(model.parameters(), lr=0.001)\n",
        "\n",
        "for epoch in range(training_epochs):\n",
        "    avg_cost = 0\n",
        "    total_batch = len(data_loader)\n",
        "\n",
        "    for X, Y in data_loader:\n",
        "        # reshape input image into [batch_size by 784]\n",
        "        # label is not one-hot encoded\n",
        "        X = X.view(-1, 28 * 28).to(device)\n",
        "        Y = Y.to(device)\n",
        "\n",
        "        optimizer.zero_grad()\n",
        "        hypothesis = model(X)\n",
        "        cost = criterion(hypothesis, Y)\n",
        "        cost.backward()\n",
        "        optimizer.step()\n",
        "\n",
        "        avg_cost += cost / total_batch\n",
        "\n",
        "    print('Epoch:', '%04d' % (epoch + 1), 'cost =', '{:.9f}'.format(avg_cost))\n",
        "\n",
        "print('Learning finished')\n",
        "\n",
        "with torch.no_grad():\n",
        "    X_test = mnist_test.test_data.view(-1, 28 * 28).float().to(device)\n",
        "    Y_test = mnist_test.test_labels.to(device)\n",
        "\n",
        "    prediction = model(X_test)\n",
        "    correct_prediction = torch.argmax(prediction, 1) == Y_test\n",
        "    accuracy = correct_prediction.float().mean()\n",
        "    print('Accuracy:', accuracy.item())\n",
        "\n",
        "    # Get one and predict\n",
        "    r = random.randint(0, len(mnist_test) - 1)\n",
        "    X_single_data = mnist_test.test_data[r:r + 1].view(-1, 28 * 28).float().to(device)\n",
        "    Y_single_data = mnist_test.test_labels[r:r + 1].to(device)\n",
        "\n",
        "    print('Label: ', Y_single_data.item())\n",
        "    single_prediction = model(X_single_data)\n",
        "    print('Prediction: ', torch.argmax(single_prediction, 1).item())\n",
        "\n",
        "    plt.imshow(mnist_test.test_data[r:r + 1].view(28, 28), cmap='Greys', interpolation='nearest')\n",
        "    plt.show()"
      ],
      "execution_count": 5,
      "outputs": [
        {
          "output_type": "stream",
          "text": [
            "Epoch: 0001 cost = 147.740356445\n",
            "Epoch: 0002 cost = 36.792125702\n",
            "Epoch: 0003 cost = 23.356882095\n",
            "Epoch: 0004 cost = 16.210615158\n",
            "Epoch: 0005 cost = 11.514391899\n",
            "Epoch: 0006 cost = 8.452229500\n",
            "Epoch: 0007 cost = 6.385204315\n",
            "Epoch: 0008 cost = 4.624919891\n",
            "Epoch: 0009 cost = 3.514826536\n",
            "Epoch: 0010 cost = 2.546171188\n",
            "Epoch: 0011 cost = 1.926395059\n",
            "Epoch: 0012 cost = 1.446961284\n",
            "Epoch: 0013 cost = 1.091358781\n",
            "Epoch: 0014 cost = 0.847503126\n",
            "Epoch: 0015 cost = 0.752348423\n",
            "Learning finished\n",
            "Accuracy: 0.9448999762535095\n",
            "Label:  8\n",
            "Prediction:  3\n"
          ],
          "name": "stdout"
        },
        {
          "output_type": "stream",
          "text": [
            "/usr/local/lib/python3.6/dist-packages/torchvision/datasets/mnist.py:60: UserWarning: test_data has been renamed data\n",
            "  warnings.warn(\"test_data has been renamed data\")\n",
            "/usr/local/lib/python3.6/dist-packages/torchvision/datasets/mnist.py:50: UserWarning: test_labels has been renamed targets\n",
            "  warnings.warn(\"test_labels has been renamed targets\")\n"
          ],
          "name": "stderr"
        },
        {
          "output_type": "display_data",
          "data": {
            "image/png": "[encoded data removed]",
            "text/plain": [
              "<Figure size 432x288 with 1 Axes>"
            ]
          },
          "metadata": {
            "tags": [],
            "needs_background": "light"
          }
        }
      ]
    },
    {
      "cell_type": "markdown",
      "metadata": {
        "id": "4GO-VULPFLIw",
        "colab_type": "text"
      },
      "source": [
        "####**4. Weight initialization**\n",
        "- 좋은 weight initialization에 대해 알아보기\n",
        "- 1. xavier-> normal, uniform\n",
        "  2. He -> normal, uniform\n",
        "- 아래는 xavier uniform\n",
        "- initialization만 열심히 해도 성능이 엄청 올라감!!"
      ]
    },
    {
      "cell_type": "code",
      "metadata": {
        "id": "-SjE6ls7LMNr",
        "colab_type": "code",
        "colab": {
          "base_uri": "https://localhost:8080/",
          "height": 670
        },
        "outputId": "ed772d52-3440-4d7b-83cd-1123b173288e"
      },
      "source": [
        "import torch\n",
        "import torchvision.datasets as dsets\n",
        "import torchvision.transforms as transforms\n",
        "import matplotlib.pyplot as plt\n",
        "import random\n",
        "\n",
        "device = 'cuda' if torch.cuda.is_available() else 'cpu'\n",
        "\n",
        "# for reproducibility\n",
        "random.seed(777)\n",
        "torch.manual_seed(777)\n",
        "if device == 'cuda':\n",
        "    torch.cuda.manual_seed_all(777)\n",
        "\n",
        "# parameters\n",
        "training_epochs = 15\n",
        "batch_size = 100\n",
        "\n",
        "#MNIST dataset\n",
        "#root: 경로 || train: true일때-trainset 불러오기/false일때-testset 불러오기 \n",
        "mnist_train = dsets.MNIST(root='MNIST_data/',\n",
        "                          train=True,\n",
        "                          transform=transforms.ToTensor(),\n",
        "                          download=True)\n",
        "\n",
        "mnist_test = dsets.MNIST(root='MNIST_data/',\n",
        "                         train=False,\n",
        "                         transform=transforms.ToTensor(),\n",
        "                         download=True)\n",
        "\n",
        "# dataset loader\n",
        "data_loader = torch.utils.data.DataLoader(dataset=mnist_train,\n",
        "                                          batch_size=batch_size,\n",
        "                                          shuffle=True,\n",
        "                                          drop_last=True)\n",
        "\n",
        "# MNIST data image of shape 28 * 28 = 784\n",
        "# class 개수: 10\n",
        "linear1 = torch.nn.Linear(784, 256, bias=True).to(device)\n",
        "linear2 = torch.nn.Linear(256, 256, bias=True).to(device)\n",
        "linear3 = torch.nn.Linear(256, 10, bias=True).to(device)\n",
        "relu = torch.nn.ReLU()\n",
        "\n",
        "#initialization- weight들 다 normal distribution 따를 수 있도록!\n",
        "torch.nn.init.xavier_uniform_(linear1.weight)\n",
        "torch.nn.init.xavier_uniform_(linear2.weight)\n",
        "torch.nn.init.xavier_uniform_(linear3.weight)\n",
        "\n",
        "model = torch.nn.Sequential(linear1,relu,linear2,relu,linear3)\n",
        "\n",
        "# define cost/loss & optimizer\n",
        "criterion = torch.nn.CrossEntropyLoss()    # Softmax is internally computed.\n",
        "optimizer = torch.optim.Adam(model.parameters(), lr=0.001)\n",
        "\n",
        "for epoch in range(training_epochs):\n",
        "    avg_cost = 0\n",
        "    total_batch = len(data_loader)\n",
        "\n",
        "    for X, Y in data_loader:\n",
        "        # reshape input image into [batch_size by 784]\n",
        "        # label is not one-hot encoded\n",
        "        X = X.view(-1, 28 * 28).to(device)\n",
        "        Y = Y.to(device)\n",
        "\n",
        "        optimizer.zero_grad()\n",
        "        hypothesis = model(X)\n",
        "        cost = criterion(hypothesis, Y)\n",
        "        cost.backward()\n",
        "        optimizer.step()\n",
        "\n",
        "        avg_cost += cost / total_batch\n",
        "\n",
        "    print('Epoch:', '%04d' % (epoch + 1), 'cost =', '{:.9f}'.format(avg_cost))\n",
        "\n",
        "print('Learning finished')\n",
        "\n",
        "with torch.no_grad():\n",
        "    X_test = mnist_test.test_data.view(-1, 28 * 28).float().to(device)\n",
        "    Y_test = mnist_test.test_labels.to(device)\n",
        "\n",
        "    prediction = model(X_test)\n",
        "    correct_prediction = torch.argmax(prediction, 1) == Y_test\n",
        "    accuracy = correct_prediction.float().mean()\n",
        "    print('Accuracy:', accuracy.item())\n",
        "\n",
        "    # Get one and predict\n",
        "    r = random.randint(0, len(mnist_test) - 1)\n",
        "    X_single_data = mnist_test.test_data[r:r + 1].view(-1, 28 * 28).float().to(device)\n",
        "    Y_single_data = mnist_test.test_labels[r:r + 1].to(device)\n",
        "\n",
        "    print('Label: ', Y_single_data.item())\n",
        "    single_prediction = model(X_single_data)\n",
        "    print('Prediction: ', torch.argmax(single_prediction, 1).item())\n",
        "\n",
        "    plt.imshow(mnist_test.test_data[r:r + 1].view(28, 28), cmap='Greys', interpolation='nearest')\n",
        "    plt.show()"
      ],
      "execution_count": 6,
      "outputs": [
        {
          "output_type": "stream",
          "text": [
            "Epoch: 0001 cost = 0.237696201\n",
            "Epoch: 0002 cost = 0.090060562\n",
            "Epoch: 0003 cost = 0.060129534\n",
            "Epoch: 0004 cost = 0.042147882\n",
            "Epoch: 0005 cost = 0.031874448\n",
            "Epoch: 0006 cost = 0.026797391\n",
            "Epoch: 0007 cost = 0.021004329\n",
            "Epoch: 0008 cost = 0.019753205\n",
            "Epoch: 0009 cost = 0.017727613\n",
            "Epoch: 0010 cost = 0.013021396\n",
            "Epoch: 0011 cost = 0.012808259\n",
            "Epoch: 0012 cost = 0.012115543\n",
            "Epoch: 0013 cost = 0.011558278\n",
            "Epoch: 0014 cost = 0.010352027\n",
            "Epoch: 0015 cost = 0.008813562\n",
            "Learning finished\n",
            "Accuracy: 0.981499969959259\n",
            "Label:  8\n",
            "Prediction:  8\n"
          ],
          "name": "stdout"
        },
        {
          "output_type": "stream",
          "text": [
            "/usr/local/lib/python3.6/dist-packages/torchvision/datasets/mnist.py:60: UserWarning: test_data has been renamed data\n",
            "  warnings.warn(\"test_data has been renamed data\")\n",
            "/usr/local/lib/python3.6/dist-packages/torchvision/datasets/mnist.py:50: UserWarning: test_labels has been renamed targets\n",
            "  warnings.warn(\"test_labels has been renamed targets\")\n"
          ],
          "name": "stderr"
        },
        {
          "output_type": "display_data",
          "data": {
            "image/png": "[encoded data removed]",
            "text/plain": [
              "<Figure size 432x288 with 1 Axes>"
            ]
          },
          "metadata": {
            "tags": [],
            "needs_background": "light"
          }
        }
      ]
    },
    {
      "cell_type": "markdown",
      "metadata": {
        "id": "W8rooTPLLrvQ",
        "colab_type": "text"
      },
      "source": [
        "####**5. Dropout**\n",
        "- overfitting을 해결하기 위한 방법\n",
        "- train 시에 fully connected 하게 하지 않고 각 layer마다 probability 기준으로 몇개의 노드만 선택해서 weight를 계산함!\n"
      ]
    },
    {
      "cell_type": "code",
      "metadata": {
        "id": "EQ9j23CGMPLc",
        "colab_type": "code",
        "colab": {
          "base_uri": "https://localhost:8080/",
          "height": 670
        },
        "outputId": "1178ce7d-6431-4bdc-9e6c-e63ac0389de8"
      },
      "source": [
        "import torch\n",
        "import torchvision.datasets as dsets\n",
        "import torchvision.transforms as transforms\n",
        "import matplotlib.pyplot as plt\n",
        "import random\n",
        "\n",
        "device = 'cuda' if torch.cuda.is_available() else 'cpu'\n",
        "\n",
        "# for reproducibility\n",
        "random.seed(777)\n",
        "torch.manual_seed(777)\n",
        "if device == 'cuda':\n",
        "    torch.cuda.manual_seed_all(777)\n",
        "\n",
        "# parameters\n",
        "training_epochs = 15\n",
        "batch_size = 100\n",
        "\n",
        "#MNIST dataset\n",
        "#root: 경로 || train: true일때-trainset 불러오기/false일때-testset 불러오기 \n",
        "mnist_train = dsets.MNIST(root='MNIST_data/',\n",
        "                          train=True,\n",
        "                          transform=transforms.ToTensor(),\n",
        "                          download=True)\n",
        "\n",
        "mnist_test = dsets.MNIST(root='MNIST_data/',\n",
        "                         train=False,\n",
        "                         transform=transforms.ToTensor(),\n",
        "                         download=True)\n",
        "\n",
        "# dataset loader\n",
        "data_loader = torch.utils.data.DataLoader(dataset=mnist_train,\n",
        "                                          batch_size=batch_size,\n",
        "                                          shuffle=True,\n",
        "                                          drop_last=True)\n",
        "\n",
        "# MNIST data image of shape 28 * 28 = 784\n",
        "# class 개수: 10\n",
        "linear1 = torch.nn.Linear(784, 256, bias=True).to(device)\n",
        "linear2 = torch.nn.Linear(256, 256, bias=True).to(device)\n",
        "linear3 = torch.nn.Linear(256, 256, bias=True).to(device)\n",
        "linear4 = torch.nn.Linear(256, 256, bias=True).to(device)\n",
        "linear5 = torch.nn.Linear(256, 10, bias=True).to(device)\n",
        "relu = torch.nn.ReLU()\n",
        "#dropout 설정\n",
        "dropout=torch.nn.Dropout(p=0.5)\n",
        "\n",
        "#initialization- weight들 다 normal distribution 따를 수 있도록!\n",
        "torch.nn.init.xavier_uniform_(linear1.weight)\n",
        "torch.nn.init.xavier_uniform_(linear2.weight)\n",
        "torch.nn.init.xavier_uniform_(linear3.weight)\n",
        "torch.nn.init.xavier_uniform_(linear4.weight)\n",
        "torch.nn.init.xavier_uniform_(linear5.weight)\n",
        "\n",
        "model = torch.nn.Sequential(linear1,relu,dropout,\n",
        "                            linear2,relu,dropout,\n",
        "                            linear3,relu,dropout,\n",
        "                            linear4,relu,dropout,\n",
        "                            linear5).to(device)\n",
        "\n",
        "model.train()\n",
        "# define cost/loss & optimizer\n",
        "criterion = torch.nn.CrossEntropyLoss()    # Softmax is internally computed.\n",
        "optimizer = torch.optim.Adam(model.parameters(), lr=0.001)\n",
        "\n",
        "for epoch in range(training_epochs):\n",
        "    avg_cost = 0\n",
        "    total_batch = len(data_loader)\n",
        "\n",
        "    for X, Y in data_loader:\n",
        "        # reshape input image into [batch_size by 784]\n",
        "        # label is not one-hot encoded\n",
        "        X = X.view(-1, 28 * 28).to(device)\n",
        "        Y = Y.to(device)\n",
        "\n",
        "        optimizer.zero_grad()\n",
        "        hypothesis = model(X)\n",
        "        cost = criterion(hypothesis, Y)\n",
        "        cost.backward()\n",
        "        optimizer.step()\n",
        "\n",
        "        avg_cost += cost / total_batch\n",
        "\n",
        "    print('Epoch:', '%04d' % (epoch + 1), 'cost =', '{:.9f}'.format(avg_cost))\n",
        "\n",
        "print('Learning finished')\n",
        "\n",
        "with torch.no_grad():\n",
        "    model.eval()\n",
        "    X_test = mnist_test.test_data.view(-1, 28 * 28).float().to(device)\n",
        "    Y_test = mnist_test.test_labels.to(device)\n",
        "\n",
        "    prediction = model(X_test)\n",
        "    correct_prediction = torch.argmax(prediction, 1) == Y_test\n",
        "    accuracy = correct_prediction.float().mean()\n",
        "    print('Accuracy:', accuracy.item())\n",
        "\n",
        "    # Get one and predict\n",
        "    r = random.randint(0, len(mnist_test) - 1)\n",
        "    X_single_data = mnist_test.test_data[r:r + 1].view(-1, 28 * 28).float().to(device)\n",
        "    Y_single_data = mnist_test.test_labels[r:r + 1].to(device)\n",
        "\n",
        "    print('Label: ', Y_single_data.item())\n",
        "    single_prediction = model(X_single_data)\n",
        "    print('Prediction: ', torch.argmax(single_prediction, 1).item())\n",
        "\n",
        "    plt.imshow(mnist_test.test_data[r:r + 1].view(28, 28), cmap='Greys', interpolation='nearest')\n",
        "    plt.show()"
      ],
      "execution_count": 9,
      "outputs": [
        {
          "output_type": "stream",
          "text": [
            "Epoch: 0001 cost = 0.666846573\n",
            "Epoch: 0002 cost = 0.290408343\n",
            "Epoch: 0003 cost = 0.232271776\n",
            "Epoch: 0004 cost = 0.203832030\n",
            "Epoch: 0005 cost = 0.185078859\n",
            "Epoch: 0006 cost = 0.169069335\n",
            "Epoch: 0007 cost = 0.161121801\n",
            "Epoch: 0008 cost = 0.147035956\n",
            "Epoch: 0009 cost = 0.146691471\n",
            "Epoch: 0010 cost = 0.136739552\n",
            "Epoch: 0011 cost = 0.133360431\n",
            "Epoch: 0012 cost = 0.126872450\n",
            "Epoch: 0013 cost = 0.123109788\n",
            "Epoch: 0014 cost = 0.124031857\n",
            "Epoch: 0015 cost = 0.118019447\n",
            "Learning finished\n",
            "Accuracy: 0.9695999622344971\n",
            "Label:  8\n",
            "Prediction:  3\n"
          ],
          "name": "stdout"
        },
        {
          "output_type": "stream",
          "text": [
            "/usr/local/lib/python3.6/dist-packages/torchvision/datasets/mnist.py:60: UserWarning: test_data has been renamed data\n",
            "  warnings.warn(\"test_data has been renamed data\")\n",
            "/usr/local/lib/python3.6/dist-packages/torchvision/datasets/mnist.py:50: UserWarning: test_labels has been renamed targets\n",
            "  warnings.warn(\"test_labels has been renamed targets\")\n"
          ],
          "name": "stderr"
        },
        {
          "output_type": "display_data",
          "data": {
            "image/png": "[encoded data removed]",
            "text/plain": [
              "<Figure size 432x288 with 1 Axes>"
            ]
          },
          "metadata": {
            "tags": [],
            "needs_background": "light"
          }
        }
      ]
    },
    {
      "cell_type": "markdown",
      "metadata": {
        "id": "KrS5cLSaNRCL",
        "colab_type": "text"
      },
      "source": [
        "####**6. Batch Normalization**\n",
        "- gradient vanishing, exploding을 해결하기 위한 방법\n",
        "- internal covariate shift를 없애주기"
      ]
    },
    {
      "cell_type": "code",
      "metadata": {
        "id": "fyTsoKV8Nj8M",
        "colab_type": "code",
        "colab": {
          "base_uri": "https://localhost:8080/",
          "height": 670
        },
        "outputId": "10cc8c4d-99f5-4d92-f5db-4babf286c8a3"
      },
      "source": [
        "import torch\n",
        "import torchvision.datasets as dsets\n",
        "import torchvision.transforms as transforms\n",
        "import matplotlib.pyplot as plt\n",
        "import random\n",
        "\n",
        "device = 'cuda' if torch.cuda.is_available() else 'cpu'\n",
        "\n",
        "# for reproducibility\n",
        "random.seed(777)\n",
        "torch.manual_seed(777)\n",
        "if device == 'cuda':\n",
        "    torch.cuda.manual_seed_all(777)\n",
        "\n",
        "# parameters\n",
        "training_epochs = 15\n",
        "batch_size = 100\n",
        "\n",
        "#MNIST dataset\n",
        "#root: 경로 || train: true일때-trainset 불러오기/false일때-testset 불러오기 \n",
        "mnist_train = dsets.MNIST(root='MNIST_data/',\n",
        "                          train=True,\n",
        "                          transform=transforms.ToTensor(),\n",
        "                          download=True)\n",
        "\n",
        "mnist_test = dsets.MNIST(root='MNIST_data/',\n",
        "                         train=False,\n",
        "                         transform=transforms.ToTensor(),\n",
        "                         download=True)\n",
        "\n",
        "# dataset loader\n",
        "data_loader = torch.utils.data.DataLoader(dataset=mnist_train,\n",
        "                                          batch_size=batch_size,\n",
        "                                          shuffle=True,\n",
        "                                          drop_last=True)\n",
        "\n",
        "# MNIST data image of shape 28 * 28 = 784\n",
        "# class 개수: 10\n",
        "linear1 = torch.nn.Linear(784, 256, bias=True).to(device)\n",
        "linear2 = torch.nn.Linear(256, 256, bias=True).to(device)\n",
        "linear3 = torch.nn.Linear(256, 10, bias=True).to(device)\n",
        "relu = torch.nn.ReLU()\n",
        "#batchnorm 설정\n",
        "bn1 = torch.nn.BatchNorm1d(256)\n",
        "bn2 = torch.nn.BatchNorm1d(256)\n",
        "\n",
        "#initialization- weight들 다 normal distribution 따를 수 있도록!\n",
        "torch.nn.init.xavier_uniform_(linear1.weight)\n",
        "torch.nn.init.xavier_uniform_(linear2.weight)\n",
        "torch.nn.init.xavier_uniform_(linear3.weight)\n",
        "\n",
        "model = torch.nn.Sequential(linear1,bn1,relu,\n",
        "                            linear2,bn2,relu,\n",
        "                            linear3).to(device)\n",
        "\n",
        "model.train()\n",
        "# define cost/loss & optimizer\n",
        "criterion = torch.nn.CrossEntropyLoss()    # Softmax is internally computed.\n",
        "optimizer = torch.optim.Adam(model.parameters(), lr=0.001)\n",
        "\n",
        "for epoch in range(training_epochs):\n",
        "    avg_cost = 0\n",
        "    total_batch = len(data_loader)\n",
        "\n",
        "    for X, Y in data_loader:\n",
        "        # reshape input image into [batch_size by 784]\n",
        "        # label is not one-hot encoded\n",
        "        X = X.view(-1, 28 * 28).to(device)\n",
        "        Y = Y.to(device)\n",
        "\n",
        "        optimizer.zero_grad()\n",
        "        hypothesis = model(X)\n",
        "        cost = criterion(hypothesis, Y)\n",
        "        cost.backward()\n",
        "        optimizer.step()\n",
        "\n",
        "        avg_cost += cost / total_batch\n",
        "\n",
        "    print('Epoch:', '%04d' % (epoch + 1), 'cost =', '{:.9f}'.format(avg_cost))\n",
        "\n",
        "print('Learning finished')\n",
        "\n",
        "with torch.no_grad():\n",
        "    model.eval()\n",
        "    X_test = mnist_test.test_data.view(-1, 28 * 28).float().to(device)\n",
        "    Y_test = mnist_test.test_labels.to(device)\n",
        "\n",
        "    prediction = model(X_test)\n",
        "    correct_prediction = torch.argmax(prediction, 1) == Y_test\n",
        "    accuracy = correct_prediction.float().mean()\n",
        "    print('Accuracy:', accuracy.item())\n",
        "\n",
        "    # Get one and predict\n",
        "    r = random.randint(0, len(mnist_test) - 1)\n",
        "    X_single_data = mnist_test.test_data[r:r + 1].view(-1, 28 * 28).float().to(device)\n",
        "    Y_single_data = mnist_test.test_labels[r:r + 1].to(device)\n",
        "\n",
        "    print('Label: ', Y_single_data.item())\n",
        "    single_prediction = model(X_single_data)\n",
        "    print('Prediction: ', torch.argmax(single_prediction, 1).item())\n",
        "\n",
        "    plt.imshow(mnist_test.test_data[r:r + 1].view(28, 28), cmap='Greys', interpolation='nearest')\n",
        "    plt.show()"
      ],
      "execution_count": 10,
      "outputs": [
        {
          "output_type": "stream",
          "text": [
            "Epoch: 0001 cost = 0.191153243\n",
            "Epoch: 0002 cost = 0.075596310\n",
            "Epoch: 0003 cost = 0.048531178\n",
            "Epoch: 0004 cost = 0.035912409\n",
            "Epoch: 0005 cost = 0.028744811\n",
            "Epoch: 0006 cost = 0.021562837\n",
            "Epoch: 0007 cost = 0.019940732\n",
            "Epoch: 0008 cost = 0.017545050\n",
            "Epoch: 0009 cost = 0.015638296\n",
            "Epoch: 0010 cost = 0.012780959\n",
            "Epoch: 0011 cost = 0.014275757\n",
            "Epoch: 0012 cost = 0.010129713\n",
            "Epoch: 0013 cost = 0.010331332\n",
            "Epoch: 0014 cost = 0.010465812\n",
            "Epoch: 0015 cost = 0.008571445\n",
            "Learning finished\n",
            "Accuracy: 0.7856999635696411\n",
            "Label:  8\n",
            "Prediction:  3\n"
          ],
          "name": "stdout"
        },
        {
          "output_type": "stream",
          "text": [
            "/usr/local/lib/python3.6/dist-packages/torchvision/datasets/mnist.py:60: UserWarning: test_data has been renamed data\n",
            "  warnings.warn(\"test_data has been renamed data\")\n",
            "/usr/local/lib/python3.6/dist-packages/torchvision/datasets/mnist.py:50: UserWarning: test_labels has been renamed targets\n",
            "  warnings.warn(\"test_labels has been renamed targets\")\n"
          ],
          "name": "stderr"
        },
        {
          "output_type": "display_data",
          "data": {
            "image/png": "[encoded data removed]",
            "text/plain": [
              "<Figure size 432x288 with 1 Axes>"
            ]
          },
          "metadata": {
            "tags": [],
            "needs_background": "light"
          }
        }
      ]
    }
  ]
}
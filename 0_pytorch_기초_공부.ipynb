{
  "nbformat": 4,
  "nbformat_minor": 0,
  "metadata": {
    "colab": {
      "name": "0.pytorch 기초 공부.ipynb",
      "provenance": [],
      "collapsed_sections": [],
      "authorship_tag": "ABX9TyPJHLSGz2xQk63b+aVE/0dP",
      "include_colab_link": true
    },
    "kernelspec": {
      "name": "python3",
      "display_name": "Python 3"
    },
    "accelerator": "GPU"
  },
  "cells": [
    {
      "cell_type": "markdown",
      "metadata": {
        "id": "view-in-github",
        "colab_type": "text"
      },
      "source": [
        "<a href=\"https://colab.research.google.com/github/gkrry2723/ML_pytorch_study/blob/master/0_pytorch_%EA%B8%B0%EC%B4%88_%EA%B3%B5%EB%B6%80.ipynb\" target=\"_parent\"><img src=\"https://colab.research.google.com/assets/colab-badge.svg\" alt=\"Open In Colab\"/></a>"
      ]
    },
    {
      "cell_type": "markdown",
      "metadata": {
        "id": "3qoSLV2yYh1n"
      },
      "source": [
        "# **CHAPTER 1. 파이토치의 기본**\n",
        "\n"
      ]
    },
    {
      "cell_type": "markdown",
      "metadata": {
        "id": "bGci7yI-Yvfl"
      },
      "source": [
        "**1. 텐서 생성하기**"
      ]
    },
    {
      "cell_type": "code",
      "metadata": {
        "colab": {
          "base_uri": "https://localhost:8080/"
        },
        "id": "VQBWBsxGcgzB",
        "outputId": "3a5ee4f2-2c51-4c99-8bbb-c89a191bfe35"
      },
      "source": [
        "import numpy as np\n",
        "import torch\n",
        "\n",
        "#중첩 list를 지정\n",
        "t = torch.tensor([[1, 2],\n",
        "                  [3, 4]\n",
        "                  ])\n",
        "\n",
        "#device 지정 -> GPU에 텐서 사용 가능\n",
        "t = torch.tensor([[1, 2],\n",
        "                  [3, 4]\n",
        "                  ], device = \"cuda:0\")\n",
        "\n",
        "#dype을 사용하여 데이터 형을 지정하여 텐서 만들기\n",
        "t = torch.tensor([[1, 2],\n",
        "                  [3, 4]\n",
        "                  ], dtype = torch.float64)\n",
        "\n",
        "# 0부터 9까지의 수치로 초기화 된 1차원 텐서\n",
        "t = torch.arange(0,10)\n",
        "\n",
        "# 모든 값이 0 인 100 X 10의 텐서를 작성하여 to 메서드로 GPU에 전송\n",
        "t = torch.zeros(100, 10).to(\"cuda:0\")\n",
        "\n",
        "#정규 난수로 100 X 10의 텐서를 작성\n",
        "t = torch.randn(100,10)\n",
        "\n",
        "#텐서의 shape은 size 메서드로 확인가능\n",
        "t.size()"
      ],
      "execution_count": null,
      "outputs": [
        {
          "output_type": "execute_result",
          "data": {
            "text/plain": [
              "torch.Size([100, 10])"
            ]
          },
          "metadata": {
            "tags": []
          },
          "execution_count": 2
        }
      ]
    },
    {
      "cell_type": "markdown",
      "metadata": {
        "id": "4NwB0KS_YzYC"
      },
      "source": [
        "**2. 텐서를 numpy로 변환하기**"
      ]
    },
    {
      "cell_type": "code",
      "metadata": {
        "id": "vsN_YXJytb8U"
      },
      "source": [
        "# numpy 메서드를 사용하여 ndarray로 변환\n",
        "t = torch.tensor([[1, 2],\n",
        "                  [3, 4]])\n",
        "x = t.numpy()\n",
        "\n",
        "# GPU상의 텐서는 to 메서드로 CPU의 텐서로 변환할 필요가 있다.\n",
        "t = torch.tensor([[1, 2],\n",
        "                  [3, 4]\n",
        "                  ,device = \"cuda:0\")\n",
        "x = t.to(CPU).numpy()\n",
        "\n"
      ],
      "execution_count": null,
      "outputs": []
    },
    {
      "cell_type": "markdown",
      "metadata": {
        "id": "W6tBmTUZY9oI"
      },
      "source": [
        "**3. 텐서의 인덱스 조작**\n",
        " - 인덱스 조작: 인덱스를 지정하여 배열의 값을 가져오거나 변경하는 것"
      ]
    },
    {
      "cell_type": "code",
      "metadata": {
        "colab": {
          "base_uri": "https://localhost:8080/"
        },
        "id": "j8dn6TaXZCzM",
        "outputId": "cb2bb5e8-9e11-4cfd-fc9f-3c859a84a3c7"
      },
      "source": [
        "import numpy as np\n",
        "import torch\n",
        "\n",
        "t = torch.tensor([[1, 2, 3],\n",
        "                  [4, 5, 6]\n",
        "                  ])\n",
        "\n",
        "# 스칼라 첨자 지정\n",
        "print( t[0,2] )\n",
        "\n",
        "# 슬라이스로 지정 ** 주의: 항상 끝은 포함 안댐\n",
        "print( t[:,:2])    \n",
        "\n",
        "# 리스트로 지정  ** 지정한 인덱스가 나옴\n",
        "print( t[:,[1,2]])\n",
        "\n",
        "# 마스크 배열을 사용하여 3보다 큰 부분만 선택\n",
        "# 마스크 배열: 원 배열과 크기는 같으며 각 요소가 True/False로 설정되어 있는 배열을 가르킨다.\n",
        "print( t[ t > 2 ])\n",
        "\n",
        "# [0, 1]의 요소를 100으로 설정\n",
        "t[0,1] = 100\n",
        "print(t)\n",
        "\n",
        "# 슬라이스를 사용한 일괄 대입\n",
        "t[: , 1] = 200\n",
        "print( t )\n",
        "\n",
        "# 마스크 배열을 사용하여 특정 조건의 요소만 치환\n",
        "t[ t>2 ] = 400\n",
        "print(t)\n",
        " "
      ],
      "execution_count": null,
      "outputs": [
        {
          "output_type": "stream",
          "text": [
            "tensor(3)\n",
            "tensor([[1, 2],\n",
            "        [4, 5]])\n",
            "tensor([[2, 3],\n",
            "        [5, 6]])\n",
            "tensor([3, 4, 5, 6])\n",
            "tensor([[  1, 100,   3],\n",
            "        [  4,   5,   6]])\n",
            "tensor([[  1, 200,   3],\n",
            "        [  4, 200,   6]])\n",
            "tensor([[  1, 400, 400],\n",
            "        [400, 400, 400]])\n"
          ],
          "name": "stdout"
        }
      ]
    },
    {
      "cell_type": "markdown",
      "metadata": {
        "id": "7eCptNGvbu-4"
      },
      "source": [
        "**4. 텐서 연산**\n",
        "\n",
        " - 행렬곱, 선형대수 계산 시에 GPU를 사용 가능하여 대규모 데이터를 처리할 때는 Numpy/SciPy보다 훨씬 빠름\n",
        " - 사칙연산: 텐서간/ 텐서와 스칼라값 사이에 가능. ndarray와는 불가능. 동일한 형이여야함. \n",
        "\n"
      ]
    },
    {
      "cell_type": "code",
      "metadata": {
        "colab": {
          "base_uri": "https://localhost:8080/"
        },
        "id": "bLGUTAxtbzT_",
        "outputId": "85729c26-49f5-4027-8e19-57c8c7fbeb43"
      },
      "source": [
        "# 길이 3인 벡터\n",
        "v = torch.tensor([1, 2, 3])\n",
        "w = torch.tensor([0, 10, 20])\n",
        "\n",
        "# 2 X 3인 벡터\n",
        "m = torch.tensor([[0, 1, 2],\n",
        "                  [100, 200, 300]])\n",
        "\n",
        "# 벡터와 스칼라의 덧셈\n",
        "v2 = v + 10\n",
        "print(v2)\n",
        "\n",
        "# 제곱도 같은 방식\n",
        "v2 = v ** 2\n",
        "print( v2 )\n",
        "\n",
        "# 동일 길이의 벡터간 뺄셈\n",
        "v2 = w - v\n",
        "print( v2 )\n",
        "\n",
        "# 여러가지 조합\n",
        "v2 = 2 * v - w / 10 + 6\n",
        "print( v2 )\n",
        "\n",
        "# 행렬과 스칼라\n",
        "m2 = m * 2\n",
        "print( m2 )\n",
        "\n",
        "# 행렬과 백터 : 2,3인 행렬과 3, 인 벡터이므로 브로드캐스트가 작동\n",
        "m3 = m + v\n",
        "print( m3 )\n",
        "\n",
        "# 행렬간 처리\n",
        "m4 = m + m\n",
        "print( m4 )"
      ],
      "execution_count": null,
      "outputs": [
        {
          "output_type": "stream",
          "text": [
            "tensor([11, 12, 13])\n",
            "tensor([1, 4, 9])\n",
            "tensor([-1,  8, 17])\n",
            "tensor([ 8.,  9., 10.])\n",
            "tensor([[  0,   2,   4],\n",
            "        [200, 400, 600]])\n",
            "tensor([[  1,   3,   5],\n",
            "        [101, 202, 303]])\n",
            "tensor([[  0,   2,   4],\n",
            "        [200, 400, 600]])\n"
          ],
          "name": "stdout"
        }
      ]
    },
    {
      "cell_type": "markdown",
      "metadata": {
        "id": "bq_YUpt6iwjx"
      },
      "source": [
        "**5. 수학 함수를 이용한 텐서 연산**"
      ]
    },
    {
      "cell_type": "code",
      "metadata": {
        "colab": {
          "base_uri": "https://localhost:8080/"
        },
        "id": "qE9X2v6si0Pt",
        "outputId": "f43b7510-b473-4f62-aaa1-524912accaaa"
      },
      "source": [
        "t = torch.tensor([[1,-2,3,-4.],\n",
        "                  [-5,6,-7,8.]])\n",
        "\n",
        "# 수학함수를 포함하는 수식\n",
        "y =  t * 2 + torch.abs(t)\n",
        "print(y)\n",
        "\n",
        "# 평균치 구하기\n",
        "m = torch.mean(t)\n",
        "print(m)\n",
        "\n",
        "# 함수가 아닌 메서드로도 사용 가능\n",
        "m = t.mean()\n",
        "print(m)\n",
        "\n",
        "# 집계 결과는 0차원의 텐서로 item 메서드를 사용하여 값을 추출 할 수 있다.\n",
        "m_value = m.item()\n",
        "print(m_value)\n",
        "\n",
        "# 집계는 차원을 지정할 수도 있다. 행 방향으로 집계하여 열 단위로 평균값을 계산한다.\n",
        "m2 = t.mean(0)\n",
        "print(m2)\n",
        "\n",
        "m3 = t.mean(1)\n",
        "print(m3)\n"
      ],
      "execution_count": null,
      "outputs": [
        {
          "output_type": "stream",
          "text": [
            "tensor([[ 3., -2.,  9., -4.],\n",
            "        [-5., 18., -7., 24.]])\n",
            "tensor(0.)\n",
            "tensor(0.)\n",
            "0.0\n",
            "tensor([-2.,  2., -2.,  2.])\n",
            "tensor([-0.5000,  0.5000])\n"
          ],
          "name": "stdout"
        }
      ]
    },
    {
      "cell_type": "markdown",
      "metadata": {
        "id": "u18QShcQmA6q"
      },
      "source": [
        "**6. 텐서의 인덱스 조작 예시**"
      ]
    },
    {
      "cell_type": "code",
      "metadata": {
        "colab": {
          "base_uri": "https://localhost:8080/"
        },
        "id": "fU4oGwMPmFCe",
        "outputId": "defe18a6-e517-4e7f-df82-b381e8115d90"
      },
      "source": [
        "x1 = torch.tensor([[1,2],\n",
        "                   [3,4.]])\n",
        "x2 = torch.tensor([[10, 20, 30],\n",
        "                   [40, 50, 60.]])\n",
        "\n",
        "# 2 x 2를 4 x 1로 보여줌\n",
        "x1.view(4,1)\n",
        "\n",
        "# -1은 표현할 수 있는 자동화된 값으로 대체되며 한번만 사용할 수 있다.\n",
        "x1.view(1,-1)\n",
        "\n",
        "# 2 x 3을 전치하여 3 x 2로 만든다.\n",
        "x2.t()\n",
        "print(x2.t())\n",
        "\n",
        "# dim = 1로 결합하면 2 x 5 의 텐서를 만든다.\n",
        "torch.cat([x1,x2], dim = 1)\n",
        "torch.cat([x1,x2.t()], dim = 0)\n",
        "\n",
        "#HWC를 CHW로 변환\n",
        "#64x32x3의 데이터가 100개\n",
        "\n",
        "hwc_img_data = torch.rand(100,64,32,3)\n",
        "chw_img_data = hwc_img_data.transpose(1,2).transpose(1,3)"
      ],
      "execution_count": null,
      "outputs": [
        {
          "output_type": "stream",
          "text": [
            "tensor([[10., 40.],\n",
            "        [20., 50.],\n",
            "        [30., 60.]])\n",
            "tensor([[10., 40.],\n",
            "        [20., 50.],\n",
            "        [30., 60.]])\n"
          ],
          "name": "stdout"
        }
      ]
    },
    {
      "cell_type": "markdown",
      "metadata": {
        "id": "_--twL-qn9QW"
      },
      "source": [
        "**7. 그외 연산의 예**\n",
        "\n",
        " - dot : 내적\n",
        " - mv : 행렬과 벡터의 곱\n",
        " - mm : 행렬 행렬 곱\n",
        " - matmul : 인수의 종류에 따라 자동으로 dot,mv, mm을 선택하여 실행\n",
        " - gesv: LU 분해를 사용한 연립방정식의 해\n",
        " - eig, symeig: 고유갑 분해\n",
        " - svd: 특이값 분해"
      ]
    },
    {
      "cell_type": "code",
      "metadata": {
        "id": "bllgDQi5oXje"
      },
      "source": [
        "m = torch.randn(100,10)\n",
        "v = torch.randn(10)\n",
        "\n",
        "#내적\n",
        "d = torch.dot(v,v)\n",
        "\n",
        "# 100 x 10의 행렬과 길이 10인 벡터의 곱\n",
        "# 결과는 길이 100인 벡터\n",
        "v2 = torch.mv(m,v)\n",
        "\n",
        "# 행렬곱\n",
        "m2 = torch.mm(m.t(),m)\n",
        "\n",
        "# 특이값 분해\n",
        "u, s, v = torch.svd(m)"
      ],
      "execution_count": null,
      "outputs": []
    },
    {
      "cell_type": "markdown",
      "metadata": {
        "id": "FhCkj3GRo5py"
      },
      "source": [
        "**8. 텐서와 자동미분**\n",
        "\n",
        " - requires_grad 라는 속성을 True로 설정하면 자동 미분 기능이 활성화 됨\n",
        " "
      ]
    },
    {
      "cell_type": "code",
      "metadata": {
        "colab": {
          "base_uri": "https://localhost:8080/"
        },
        "id": "bDJhxNuhpUuA",
        "outputId": "7c5852be-db21-4dff-8247-51b3349c00d0"
      },
      "source": [
        "x = torch.randn(100,3)\n",
        "# 미분의 변수로 사용하는 경우는 requires_grad를 True로 설정\n",
        "a = torch.tensor([1,2,3.], requires_grad=True)\n",
        "\n",
        "# 계산을 통해 자동으로 계산 그래프가 구축된다.\n",
        "y = torch.mv(x,a)\n",
        "o = y.sum()\n",
        "\n",
        "# 미분을 실행\n",
        "o.backward()\n",
        "\n",
        "#분석 답과 비교\n",
        "a.grad != x.sum()"
      ],
      "execution_count": null,
      "outputs": [
        {
          "output_type": "execute_result",
          "data": {
            "text/plain": [
              "tensor([True, True, True])"
            ]
          },
          "metadata": {
            "tags": []
          },
          "execution_count": 48
        }
      ]
    },
    {
      "cell_type": "markdown",
      "metadata": {
        "id": "ltVIDO7Z6HhO"
      },
      "source": [
        "**파이토치로 선형 회귀 모델 만들기 --> 직접 만들기**\n",
        "\n",
        "y = 1+2x(1)+3x(2)"
      ]
    },
    {
      "cell_type": "code",
      "metadata": {
        "colab": {
          "base_uri": "https://localhost:8080/",
          "height": 282
        },
        "id": "5foD2p_1SjLE",
        "outputId": "b2ed16cf-6038-4ba6-d8da-169b4609ef39"
      },
      "source": [
        "import torch\n",
        "from matplotlib import pyplot as plt\n",
        "\n",
        "# 우리가 만들고자 하는 진짜 값.\n",
        "# y = 1 + 2x+ 3x\n",
        "w_true = torch.Tensor([1,2,3])\n",
        "\n",
        "# x 데이터 준비. 절편을 위해 최초 차원에 1을 추가해줌 \n",
        "X = torch.cat([torch.ones(100,1), torch.randn(100,2)],1)\n",
        "\n",
        "# y 값 준비. 아마 뒤에 랜덤 값 더하는 것은 불확실성을 주기 위한 것 같음!\n",
        "y = torch.mv(X, w_true) + torch.randn(100)*0.5\n",
        "\n",
        "# x의 계수를 찾기 위한 변수 준비! 세타에 해당함. requires_grad를 해야 나중에 gradient descent를 해줌\n",
        "w = torch.randn(3,requires_grad = True)\n",
        "\n",
        "# 학습률\n",
        "learning_rate = 0.1\n",
        "\n",
        "#경사 하강법으로 파라미터 최적화 하기\n",
        "losses = []\n",
        "\n",
        "for epoc in range(100):\n",
        "  # 전회의 backward 계산값을 초기화해줘야함!!\n",
        "  w.grad = None\n",
        "\n",
        "  #선형모델로 y 예측값 계산\n",
        "  y_pred = torch.mv(X,w)\n",
        "\n",
        "  #MSE loss와 w에의한 미분을 계산\n",
        "  #이게 loss 계산이고\n",
        "  loss = torch.mean((y-y_pred)**2)\n",
        "\n",
        "  #이게 계산한 loss에 의한 gradient descent를 하는 과정같음\n",
        "  #신기한게 loss에서 backward를 하면 아마 w.grad에 미분한 값이 저장되는 것 같음.\n",
        "  loss.backward()\n",
        "\n",
        "  #w를 그대로 대입하여 갱신하면 다른 텐서가 되어 계산 그래프가 망가지므로 data만 갱신한다고 한다.\n",
        "  w.data = w.data - learning_rate*w.grad.data\n",
        "\n",
        "  #수렴확인을 하기 위해 loss를 기록해둔다.\n",
        "  losses.append(loss.item())\n",
        "\n",
        "plt.plot(losses)\n",
        "\n",
        "\n",
        "# 내가 이해한 순서\n",
        "# x, y 데이터 준비\n",
        "# 임의의 세타값( w ) 준비하기 -> 이때 requires_grad = True로 해줘야함.\n",
        "# learning rate 준비, plot을 위해 loss 리스트 준비\n",
        "# \n",
        "# epoc for문 시작\n",
        "# w.grad 항상 None으로 초기화 해주기\n",
        "# y_pred 계산. w와 X 곱해주기\n",
        "# loss 계산. mean 함수로 MSE 계산해주기\n",
        "# loss.backward로 미분해주기\n",
        "# w.data 함수 갱신해주기\n",
        "# 수렴 확인을 위해 loss 리스트에 loss값 추가\n",
        "\n",
        "print(w)"
      ],
      "execution_count": null,
      "outputs": [
        {
          "output_type": "stream",
          "text": [
            "tensor([1.0482, 1.9353, 2.9596], requires_grad=True)\n"
          ],
          "name": "stdout"
        },
        {
          "output_type": "display_data",
          "data": {
            "image/png": "[encoded data removed]",
            "text/plain": [
              "<Figure size 432x288 with 1 Axes>"
            ]
          },
          "metadata": {
            "tags": [],
            "needs_background": "light"
          }
        }
      ]
    },
    {
      "cell_type": "markdown",
      "metadata": {
        "id": "j8-cY5tvX2Sj"
      },
      "source": [
        "**파이토치로 선형 회귀모델 만들기 --> nn, optim모듈 사용**"
      ]
    },
    {
      "cell_type": "code",
      "metadata": {
        "id": "seYA499TXu8H"
      },
      "source": [
        "from torch import nn, optim\n",
        "\n",
        "# Linear 층을 작성하기\n",
        "# 입력층을 3개로 하고 bias(절편)을 False로. \n",
        "# 무조건 1로 할거면 bias True로 하면 되는거같은데 여기서는 그냥 1이라는 것도 수렴하나 보려고 변수에 포함시켜서 하는것 같음 ㅇㅇ\n",
        "# net 만드는데 input output 개수 정하는 것 같음. 여기선 input은 3개(x), output은 1개 (y) 임\n",
        "net = nn.Linear(in_features = 3, out_features = 1, bias = False)\n",
        "\n",
        "# SGD 최적화기상에서 정의한 네트워크의 파라미터를 전달하여 초기화\n",
        "# SGD: gradient descent인데 계속해서 업데이트하는 그런 종류인가봄. 그냥 gd라고 생각하자.\n",
        "optimizer = optim.SGD(net.parameters(), lr = 0.1)\n",
        "\n",
        "# MSE loss 클래스\n",
        "# loss function도 골라주고\n",
        "loss_fn = nn.MSELoss()\n",
        "\n",
        "\n",
        "losses = []\n",
        "for epoc in range(100):\n",
        "  # gd로 인한 backward method값 초기화하기\n",
        "  optimizer.zero_grad()\n",
        "\n",
        "  # 파라미터를 우리가 직접 만들어서 들고있는게 아니고 nn.Linear에서 인풋 아웃풋 개수만 알려주면 알아서 세타를 자기들이 갖고있네...\n",
        "  y_pred = net(X)\n",
        "\n",
        "  # MSE loss 계산\n",
        "  # y_pred는 (n,1)과 같은 shape이므로 (n,) 으로 변경해줄 필요가 있다.\n",
        "  loss = loss_fn(y_pred.view_as(y), y)\n",
        "  \n",
        "  # loss를 이용하여 backward\n",
        "  loss.backward()\n",
        "\n",
        "  # backward를 한 뒤 경사를 갱신하기\n",
        "  optimizer.step()\n",
        "\n",
        "  # 수렴확인을 위하여 loss 기록하기\n",
        "  losses.append(loss.item())\n",
        "\n",
        "  print(list(net.parameters()))\n",
        "  plt.plot(losses)\n",
        "\n",
        "# nn, optim 모듈을 사용하여 선형 회귀 만드는 방법\n",
        "# 넷망을 만들기. nn.Linear(input개수, output개수, bias유무)\n",
        "# optimizer 만들기 optim.SGD(넷망.parameters(), lr = 러닝레이트)\n",
        "# loss function 만들기. nn.MSELoss()\n",
        "#\n",
        "# for epoc 돌리기\n",
        "# optimizer. zero_grad() -> gradient 0으로 초기ㅗ하\n",
        "# y_pred계산 : net\n",
        "# loss 계산 : loss_fn\n",
        "# optimize하기(backward)\n",
        "# opmize한거 경사 갱신\n",
        "# loss 수렴위해 append\n",
        "\n"
      ],
      "execution_count": null,
      "outputs": []
    },
    {
      "cell_type": "markdown",
      "metadata": {
        "id": "-fdfMsOSaNgT"
      },
      "source": [
        "**파이토치로 로지스틱 회귀 구현하기 - nn, optim 사용**\r\n",
        "iris: (0,1,2) 세종류로 구분된다.\r\n",
        "(0,1) 두 개 데이터만 사용한다.\r\n",
        "원래는 학습용과 테스트용으로 나눠야 하지만 여기선 생략한다."
      ]
    },
    {
      "cell_type": "code",
      "metadata": {
        "colab": {
          "base_uri": "https://localhost:8080/",
          "height": 318
        },
        "id": "z1-kdOdsaU80",
        "outputId": "12c19899-caeb-4fe7-e7c5-cf9a02bf9680"
      },
      "source": [
        "import torch\r\n",
        "from torch import nn, optim\r\n",
        "from matplotlib import pyplot as plt\r\n",
        "# iris 데이터 준비-> 붓꽃 데이터. 4개 데이터로 구성되어 해당 붓꽃의 특징을 설명함\r\n",
        "from sklearn.datasets import load_iris\r\n",
        "iris = load_iris()\r\n",
        "\r\n",
        "#data 불러오기\r\n",
        "X = iris.data[:100]\r\n",
        "y = iris.target[:100]\r\n",
        "\r\n",
        "#원래 ndarray 타입이어서 tensor로 변환\r\n",
        "X = torch.tensor(X, dtype = torch.float32)\r\n",
        "y = torch.tensor(y, dtype = torch.float32)\r\n",
        "\r\n",
        "#모델 작성\r\n",
        "net = nn.Linear(4,1)\r\n",
        "\r\n",
        "#classify 문제이므로 시그모이드 함수를 적용\r\n",
        "loss_fn = nn.BCEWithLogitsLoss()\r\n",
        "\r\n",
        "#optimizer 생성\r\n",
        "optimizer = optim.SGD(net.parameters(),lr = 0.1)\r\n",
        "\r\n",
        "#손실함수 로그\r\n",
        "losses = []\r\n",
        "\r\n",
        "for epoc in range(100):\r\n",
        "  optimizer.zero_grad()\r\n",
        "  y_pred = net(X)\r\n",
        "  loss = loss_fn(y_pred.view_as(y),y)\r\n",
        "  loss.backward()\r\n",
        "  optimizer.step()\r\n",
        "  losses.append(loss.item())\r\n",
        "\r\n",
        "#loss 출력\r\n",
        "plt.plot(losses)\r\n",
        "\r\n",
        "# 예측 값 출력\r\n",
        "h = net(X)\r\n",
        "prob = nn.functional.sigmoid(h)\r\n",
        "y_pred = prob>0.5\r\n",
        "\r\n",
        "print((y.byte() == y_pred.view_as(y)).sum().item())\r\n",
        "\r\n"
      ],
      "execution_count": null,
      "outputs": [
        {
          "output_type": "stream",
          "text": [
            "100\n"
          ],
          "name": "stdout"
        },
        {
          "output_type": "stream",
          "text": [
            "/usr/local/lib/python3.6/dist-packages/torch/nn/functional.py:1639: UserWarning: nn.functional.sigmoid is deprecated. Use torch.sigmoid instead.\n",
            "  warnings.warn(\"nn.functional.sigmoid is deprecated. Use torch.sigmoid instead.\")\n"
          ],
          "name": "stderr"
        },
        {
          "output_type": "display_data",
          "data": {
            "image/png": "[encoded data removed]",
            "text/plain": [
              "<Figure size 432x288 with 1 Axes>"
            ]
          },
          "metadata": {
            "tags": [],
            "needs_background": "light"
          }
        }
      ]
    },
    {
      "cell_type": "markdown",
      "metadata": {
        "id": "ZW_anMQLhTRn"
      },
      "source": [
        "**다중분류를 위한 로지스틱 회귀 분석**\r\n",
        "\r\n",
        " - 0~9 손글씨를 분류하는 것으로 테스트"
      ]
    },
    {
      "cell_type": "code",
      "metadata": {
        "colab": {
          "base_uri": "https://localhost:8080/",
          "height": 439
        },
        "id": "0p_G1GGpeca5",
        "outputId": "6357fa16-a451-4ee8-b1d4-6fe001d71594"
      },
      "source": [
        "import torch\r\n",
        "from torch import nn, optim\r\n",
        "from sklearn.datasets import load_digits\r\n",
        "from matplotlib import pyplot as plt\r\n",
        "\r\n",
        "digits = load_digits()\r\n",
        "\r\n",
        "X = digits.data\r\n",
        "y = digits.target\r\n",
        "\r\n",
        "X = torch.tensor(X, dtype=torch.float32)\r\n",
        "#CrossEntrophy 함수는 y로 int64형의 텐서를 받음\r\n",
        "y = torch.tensor(y, dtype = torch.int64)\r\n",
        "\r\n",
        "#출력은 10차원\r\n",
        "net = nn.Linear(X.size()[1], 10)\r\n",
        "\r\n",
        "#소프트맥스 크로스 엔트로피를 로스함수로 사용하기\r\n",
        "loss_fn = nn.CrossEntropyLoss()\r\n",
        "\r\n",
        "#optimizer\r\n",
        "optimizer = optim.SGD(net.parameters(), lr = 0.01)\r\n",
        "\r\n",
        "#loss 로그\r\n",
        "losses = []\r\n",
        "\r\n",
        "for epoc in range(100):\r\n",
        "  optimizer.zero_grad()\r\n",
        "\r\n",
        "  y_pred = net(X)\r\n",
        "  loss = loss_fn(y_pred,y)\r\n",
        "  loss.backward()\r\n",
        "\r\n",
        "  optimizer.step()\r\n",
        "\r\n",
        "  losses.append(loss)\r\n",
        "\r\n",
        "plt.plot(losses)\r\n",
        "#정답률\r\n",
        "#torch.max는 (위치, 최댓값)을 반환한다.\r\n",
        "#우리는 위치는 필요없으므로 __로 받고 사용하지 않는다.\r\n",
        "_, y_pred = torch.max(net(X),1)\r\n",
        "print(net(X))\r\n",
        "print(y_pred)\r\n",
        "print((y_pred == y).sum().item() / len(y))"
      ],
      "execution_count": null,
      "outputs": [
        {
          "output_type": "stream",
          "text": [
            "tensor([[ 7.7461, -6.2917, -2.5632,  ..., -2.9443, -1.0543,  1.5886],\n",
            "        [-7.8184,  5.9613, -0.6364,  ..., -3.4927, -0.0689, -1.6801],\n",
            "        [-3.6116,  3.1216,  3.6955,  ..., -2.0875,  3.4908, -4.7576],\n",
            "        ...,\n",
            "        [-6.0514,  2.6378, -0.8570,  ..., -3.7489,  4.9286, -2.2082],\n",
            "        [ 1.0245, -0.4017, -4.9598,  ..., -3.7346,  1.3785,  3.9139],\n",
            "        [-3.4057, -1.1002, -1.8579,  ..., -4.3997,  4.1895,  0.0777]],\n",
            "       grad_fn=<AddmmBackward>)\n",
            "tensor([0, 1, 2,  ..., 8, 9, 8])\n",
            "0.9499165275459098\n"
          ],
          "name": "stdout"
        },
        {
          "output_type": "display_data",
          "data": {
            "image/png": "[encoded data removed]",
            "text/plain": [
              "<Figure size 432x288 with 1 Axes>"
            ]
          },
          "metadata": {
            "tags": [],
            "needs_background": "light"
          }
        }
      ]
    },
    {
      "cell_type": "markdown",
      "metadata": {
        "id": "tEir3N0ZzQ6b"
      },
      "source": [
        "**다층 퍼셉트론 - Multi-Layer Perceptron**\r\n",
        "  - 선형계층을 여러개 연결 한 것.\r\n",
        "  - 입력층 - 숨김층 - 출력층으로 구성\r\n",
        "  - 출력층\r\n",
        "    - 회귀 문제: 선형회귀\r\n",
        "    - 분류 문제: 로지스틱 회귀\r\n",
        "  - 각 층의 레이어에 활성화 함수를 적용 (activation function)"
      ]
    },
    {
      "cell_type": "markdown",
      "metadata": {
        "id": "5M1vH1Yo0Ycp"
      },
      "source": [
        "다층 퍼셉트론의 net 만드는 방법\r\n",
        "\r\n",
        "> nn 모듈을 층으로 쌓아서 신경망을 구축할 때 nn.Sequential을 사용한다.\r\n",
        "\r\n",
        "층이 일직선으로 쌓인 형태의 신경망 -> 피드포워드(Feedforward)\r\n",
        "\r\n",
        "\r\n"
      ]
    },
    {
      "cell_type": "code",
      "metadata": {
        "id": "R-Uck-2j0Pk7"
      },
      "source": [
        "import torch\r\n",
        "from torch import nn\r\n",
        "\r\n",
        "\r\n",
        "net = nn.Sequential(\r\n",
        "    nn.Linear(64,32),\r\n",
        "    nn.ReLU(),\r\n",
        "    nn.Linear(32,16),\r\n",
        "    nn.ReLU()\r\n",
        "    nn.Linear(16, 10)\r\n",
        ")"
      ],
      "execution_count": null,
      "outputs": []
    },
    {
      "cell_type": "markdown",
      "metadata": {
        "id": "Pib53oIe1NVS"
      },
      "source": [
        "손글씨 숫자 분류 문제를 MLP를 사용하여 해결하기"
      ]
    },
    {
      "cell_type": "code",
      "metadata": {
        "colab": {
          "base_uri": "https://localhost:8080/",
          "height": 286
        },
        "id": "FW_QbRY51H6b",
        "outputId": "84d29305-132f-4195-a0ac-069e69f079b8"
      },
      "source": [
        "import torch\r\n",
        "from torch import nn, optim\r\n",
        "from sklearn.datasets import load_digits\r\n",
        "from matplotlib import pyplot as plt\r\n",
        "\r\n",
        "#0. 데이터 처리\r\n",
        "digits = load_digits()\r\n",
        "\r\n",
        "X = digits.data\r\n",
        "y = digits.target\r\n",
        "\r\n",
        "X = torch.tensor(X, dtype = torch.float32)\r\n",
        "y = torch.tensor(y, dtype = torch.int64)\r\n",
        "\r\n",
        "# to 메서드를 이용하여 GPU로 전송하기ㅏ\r\n",
        "# X = X.to(\"cuda:0\")\r\n",
        "# y = y.to(\"cuda:0\")\r\n",
        "# net.to(\"cuda:0\")\r\n",
        "\r\n",
        "#1. net 생성\r\n",
        "net = nn.Sequential(\r\n",
        "    nn.Linear(X.size()[1],32),\r\n",
        "    nn.ReLU(),\r\n",
        "    nn.Linear(32,16),\r\n",
        "    nn.ReLU(),\r\n",
        "    nn.Linear(16,10)\r\n",
        ")\r\n",
        "\r\n",
        "#2. loss_fn\r\n",
        "loss_fn = nn.CrossEntropyLoss()\r\n",
        "\r\n",
        "#3. optimizer 생성\r\n",
        "optimizer = optim.Adam(net.parameters(),lr = 0.01)\r\n",
        "\r\n",
        "#4. loss 저장\r\n",
        "losses =[]\r\n",
        "\r\n",
        "#for 문 시작\r\n",
        "for epoc in range(100):\r\n",
        "  #1. gradient 초기화\r\n",
        "  optimizer.zero_grad()\r\n",
        "\r\n",
        "  #2. net에 넣어 계산\r\n",
        "  y_pred = net(X)\r\n",
        "\r\n",
        "  #3. loss 계산\r\n",
        "  loss = loss_fn(y_pred, y)\r\n",
        "\r\n",
        "  #4. backpropagation\r\n",
        "  loss.backward()\r\n",
        "\r\n",
        "  #5. optimize\r\n",
        "  optimizer.step()\r\n",
        "\r\n",
        "  losses.append(loss)\r\n",
        "\r\n",
        "plt.plot(losses)\r\n",
        "\r\n",
        "#정답률\r\n",
        "#torch.max는 (위치, 최댓값)을 반환한다.\r\n",
        "#우리는 위치는 필요없으므로 __로 받고 사용하지 않는다.\r\n",
        "_, y_pred = torch.max(net(X),1)\r\n",
        "print((y_pred == y).sum().item() / len(y))\r\n",
        "\r\n",
        "\r\n",
        "\r\n"
      ],
      "execution_count": null,
      "outputs": [
        {
          "output_type": "stream",
          "text": [
            "0.9977740678909294\n"
          ],
          "name": "stdout"
        },
        {
          "output_type": "display_data",
          "data": {
            "image/png": "[encoded data removed]",
            "text/plain": [
              "<Figure size 432x288 with 1 Axes>"
            ]
          },
          "metadata": {
            "tags": [],
            "needs_background": "light"
          }
        }
      ]
    },
    {
      "cell_type": "markdown",
      "metadata": {
        "id": "7hpbwry98ln1"
      },
      "source": [
        "**dataset과 dataloader**\r\n",
        "\r\n",
        " 데이터가 너무 커지거나 신경망 계층, 파라미터가 증가하게 되면 전체 데이터를 메모리에서 처리하기 어려워진다. 이럴 땐 데이터의 일부 미니 배치(mini-batch)만 사용하는 SGD 학습법을 사용 할 수 있다.\r\n",
        "\r\n",
        " - TensorDataset\r\n",
        "  - Dataset을 상속한 클래스\r\n",
        "  - 학습데이터 X와 레이블 Y를 묶어놓은 컨테이너\r\n",
        "  - TensorDataset을 DataLoader에 전달하면 for 루프에서 데이터 일부만 간단히 추출 할 수 있다. \r\n",
        "  - Tensor만 전달 가능\r\n",
        "  "
      ]
    },
    {
      "cell_type": "markdown",
      "metadata": {
        "id": "lvimdN869f7w"
      },
      "source": [
        "* Tensordataset을 DataLoarder에 전달하여 데이터의 일부만 간단히 추출하는 예\r\n"
      ]
    },
    {
      "cell_type": "code",
      "metadata": {
        "colab": {
          "base_uri": "https://localhost:8080/",
          "height": 282
        },
        "id": "1rbp7_J19m7P",
        "outputId": "8b839b4b-32fe-4651-a1a0-7efd248a0f12"
      },
      "source": [
        "import torch\r\n",
        "from torch import nn, optim\r\n",
        "from torch.utils.data import TensorDataset, DataLoader\r\n",
        "\r\n",
        "#dataset 작성\r\n",
        "ds = TensorDataset(X,y)\r\n",
        "\r\n",
        "#순서로 섞어서 64개씩 데이터를 반환하는 DataLoader 작성\r\n",
        "loader = DataLoader(ds, batch_size = 64, shuffle = True)\r\n",
        "\r\n",
        "net = nn.Sequential(\r\n",
        "    nn.Linear(64,32),\r\n",
        "    nn.ReLU(),\r\n",
        "    nn.Linear(32,16),\r\n",
        "    nn.ReLU(),\r\n",
        "    nn.Linear(16,10)\r\n",
        ")\r\n",
        "\r\n",
        "loss_fn = nn.CrossEntropyLoss()\r\n",
        "optimizer = optim.Adam(net.parameters(),lr = 0.01)\r\n",
        "\r\n",
        "losses = []\r\n",
        "\r\n",
        "for epoc in range(100):\r\n",
        "  running_loss = 0.0\r\n",
        "  for xx,yy in loader:\r\n",
        "    # xx,yy는 64개만 받는다.\r\n",
        "    y_pred = net(xx)\r\n",
        "    loss = loss_fn(y_pred,yy)\r\n",
        "    optimizer.zero_grad()\r\n",
        "    loss.backward()\r\n",
        "    optimizer.step()\r\n",
        "    running_loss += loss.item()\r\n",
        "  losses.append(running_loss)\r\n",
        "\r\n",
        "plt.plot(losses)\r\n",
        "\r\n",
        "#정답률\r\n",
        "#torch.max는 (위치, 최댓값)을 반환한다.\r\n",
        "#우리는 위치는 필요없으므로 __로 받고 사용하지 않는다.\r\n",
        "_, y_pred = torch.max(net(X),1)\r\n",
        "print((y_pred == y).sum().item() / len(y))\r\n",
        "  "
      ],
      "execution_count": null,
      "outputs": [
        {
          "output_type": "stream",
          "text": [
            "1.0\n"
          ],
          "name": "stdout"
        },
        {
          "output_type": "display_data",
          "data": {
            "image/png": "[encoded data removed]",
            "text/plain": [
              "<Figure size 432x288 with 1 Axes>"
            ]
          },
          "metadata": {
            "tags": [],
            "needs_background": "light"
          }
        }
      ]
    },
    {
      "cell_type": "markdown",
      "metadata": {
        "id": "u2QMQmqxCXDI"
      },
      "source": [
        "**학습 효율화 팁** \r\n",
        "  머신러닝의 공통적인 문제: 과학습(overlearning)\r\n",
        "  과학습을 교정할 수 있도록 도와주는 작업: 정규화\r\n",
        "\r\n",
        "  - Dropout을 사용한 정규화: 과학습을 덜 할 수 있도록 도와줌\r\n",
        "  - Batch Normalization: 학습 가속"
      ]
    },
    {
      "cell_type": "markdown",
      "metadata": {
        "id": "JBXA7COrC4j1"
      },
      "source": [
        "학습 신경망의 층을 과하게 늘린 코드\r\n",
        "\r\n",
        "  -> test 결과가 상승. 과학습의 대표적인 예\r\n",
        "  -> regularization을 해줘야함"
      ]
    },
    {
      "cell_type": "code",
      "metadata": {
        "colab": {
          "base_uri": "https://localhost:8080/",
          "height": 282
        },
        "id": "CFsxCjHOC9cp",
        "outputId": "ba8aeb17-c289-4857-bb91-c55a97b66dc2"
      },
      "source": [
        "import torch\r\n",
        "from torch import nn, optim\r\n",
        "from sklearn.model_selection import train_test_split\r\n",
        "\r\n",
        "#전체의 30퍼센트는 검증용\r\n",
        "X = digits.data\r\n",
        "Y = digits.target\r\n",
        "\r\n",
        "X_train, X_test, Y_train, Y_test = train_test_split(X,Y,test_size =0.3)\r\n",
        "\r\n",
        "X_train = torch.tensor(X_train, dtype = torch.float32)\r\n",
        "Y_train = torch.tensor(Y_train, dtype = torch.int64)\r\n",
        "X_test = torch.tensor(X_test, dtype = torch.float32)\r\n",
        "Y_test = torch.tensor(Y_test, dtype = torch.int64)\r\n",
        "\r\n",
        "\r\n",
        "#여러층을 쌓아서 깊은 신경망을 구축한다.\r\n",
        "k = 100\r\n",
        "net = nn.Sequential(\r\n",
        "    nn.Linear(64,k),\r\n",
        "    nn.ReLU(),\r\n",
        "    nn.Linear(k,k),\r\n",
        "    nn.ReLU(),\r\n",
        "    nn.Linear(k,k),\r\n",
        "    nn.ReLU(),\r\n",
        "    nn.Linear(k,k),\r\n",
        "    nn.ReLU(),\r\n",
        "    nn.Linear(k,10)\r\n",
        ")\r\n",
        "\r\n",
        "loss_fn = nn.CrossEntropyLoss()\r\n",
        "optimizer = optim.Adam(net.parameters())\r\n",
        "\r\n",
        "ds = TensorDataset(X_train,Y_train)\r\n",
        "loader = DataLoader(ds, batch_size = 32, shuffle = True)\r\n",
        "\r\n",
        "train_losses = []\r\n",
        "test_losses = []\r\n",
        "for epoch in range(100):\r\n",
        "  running_loss = 0.0\r\n",
        "  for i,(xx,yy) in enumerate(loader):\r\n",
        "    y_pred = net(xx)\r\n",
        "    loss = loss_fn(y_pred,yy)\r\n",
        "    optimizer.zero_grad()\r\n",
        "    loss.backward()\r\n",
        "    optimizer.step()\r\n",
        "    running_loss += loss.item()\r\n",
        "  \r\n",
        "  train_losses.append(running_loss/i)\r\n",
        "  y_pred = net(X_test)\r\n",
        "  test_loss = loss_fn(y_pred,Y_test)\r\n",
        "  test_losses.append(test_loss.item())\r\n",
        "\r\n",
        "plt.plot(train_losses)\r\n",
        "plt.plot(test_losses)\r\n",
        "\r\n",
        "\r\n"
      ],
      "execution_count": null,
      "outputs": [
        {
          "output_type": "execute_result",
          "data": {
            "text/plain": [
              "[<matplotlib.lines.Line2D at 0x7f16b22b3860>]"
            ]
          },
          "metadata": {
            "tags": []
          },
          "execution_count": 6
        },
        {
          "output_type": "display_data",
          "data": {
            "image/png": "[encoded data removed]",
            "text/plain": [
              "<Figure size 432x288 with 1 Axes>"
            ]
          },
          "metadata": {
            "tags": [],
            "needs_background": "light"
          }
        }
      ]
    },
    {
      "cell_type": "markdown",
      "metadata": {
        "id": "V7meLE8gUXQs"
      },
      "source": [
        " 위와 같은 과학습을 방지하는 것을 정규화 (regularization)이라고 한다.\r\n",
        " \r\n",
        " 다양한 정규화가 있지만 신경망에서 자주 사용되는 dropout에 대해 알아보자.\r\n",
        "\r\n",
        "> **dropou**t: 몇개의 노드를 랜덤으로 선택하여 의도적으로 사용하지 않는 것\r\n",
        "\r\n",
        "  dropout은 신경망 훈련시에만 사용하고 예측시에는 사용하지 않는다.\r\n",
        "\r\n",
        "  pytorch에서는 모델의 train과 eval 메소드로 dropout을 적용/미적용 할 수 있다.\r\n",
        "\r\n"
      ]
    },
    {
      "cell_type": "code",
      "metadata": {
        "colab": {
          "base_uri": "https://localhost:8080/",
          "height": 286
        },
        "id": "K0nfYa1JVAFQ",
        "outputId": "72a49bc6-fd8a-4a08-beb9-9a9cf41af32b"
      },
      "source": [
        "# 확률 0.5로 랜덤으로 변수의 차원을 버리는 dropout을 각 층에 추가하기\r\n",
        "net = nn.Sequential(\r\n",
        "    nn.Linear(64,k),\r\n",
        "    nn.ReLU(),\r\n",
        "    nn.Dropout(0.5),\r\n",
        "    nn.Linear(k,k),\r\n",
        "    nn.ReLU(),\r\n",
        "    nn.Dropout(0.5),\r\n",
        "    nn.Linear(k,k),\r\n",
        "    nn.ReLU(),\r\n",
        "    nn.Dropout(0.5),\r\n",
        "    nn.Linear(k,k),\r\n",
        "    nn.ReLU(),\r\n",
        "    nn.Dropout(0.5),\r\n",
        "    nn.Linear(k,10)\r\n",
        ")\r\n",
        "\r\n",
        "# train과 eval method로 dropout 처리 적용/미적용\r\n",
        "\r\n",
        "optimizer = optim.Adam(net.parameters())\r\n",
        "\r\n",
        "train_losses = []\r\n",
        "test_losses = []\r\n",
        "for epoch in range(100):\r\n",
        "  running_loss = 0.0\r\n",
        "  #신경망을 훈련모드로 설정\r\n",
        "  net.train()\r\n",
        "  for i,(xx,yy) in enumerate(loader):\r\n",
        "    y_pred = net(xx)\r\n",
        "    loss = loss_fn(y_pred,yy)\r\n",
        "    optimizer.zero_grad()\r\n",
        "    loss.backward()\r\n",
        "    optimizer.step()\r\n",
        "    running_loss += loss.item()\r\n",
        "  train_losses.append(running_loss/i)\r\n",
        "\r\n",
        "  #신경망을 평가모드로 설정하고 검증데이터의 손실함수를 계산\r\n",
        "  net.eval()\r\n",
        "  y_pred = net(X_test)\r\n",
        "  test_loss = loss_fn(y_pred,Y_test)\r\n",
        "  test_losses.append(test_loss.item())\r\n",
        "\r\n",
        "plt.plot(train_losses)\r\n",
        "plt.plot(test_losses)\r\n"
      ],
      "execution_count": null,
      "outputs": [
        {
          "output_type": "execute_result",
          "data": {
            "text/plain": [
              "[<matplotlib.lines.Line2D at 0x7f16b21122b0>]"
            ]
          },
          "metadata": {
            "tags": []
          },
          "execution_count": 8
        },
        {
          "output_type": "display_data",
          "data": {
            "image/png": "[encoded data removed]",
            "text/plain": [
              "<Figure size 432x288 with 1 Axes>"
            ]
          },
          "metadata": {
            "tags": [],
            "needs_background": "light"
          }
        }
      ]
    },
    {
      "cell_type": "markdown",
      "metadata": {
        "id": "drVlRT0fXUk6"
      },
      "source": [
        "**Batch Normalization을 사용한 학습 가속**\r\n"
      ]
    },
    {
      "cell_type": "code",
      "metadata": {
        "id": "udjwlCa8Xw7s"
      },
      "source": [
        "net = nn.Sequential(\r\n",
        "    nn.Linear(64,k),\r\n",
        "    nn.ReLU(),\r\n",
        "    nn.BatchNorm1d(k),\r\n",
        "    nn.Linear(k,k),\r\n",
        "    nn.ReLU(),\r\n",
        "    nn.BatchNorm1d(k),\r\n",
        "    nn.Linear(k,k),\r\n",
        "    nn.ReLU(),\r\n",
        "    nn.BatchNorm1d(k),\r\n",
        "    nn.Linear(k,k),\r\n",
        "    nn.ReLU(),\r\n",
        "    nn.BatchNorm1d(k),\r\n",
        "    nn.Linear(k,10)\r\n",
        ")"
      ],
      "execution_count": null,
      "outputs": []
    },
    {
      "cell_type": "markdown",
      "metadata": {
        "id": "ugB2U4_SX_fC"
      },
      "source": [
        "**< 신경망의 모듈화 >**\r\n",
        "\r\n",
        "  - 파이토치에서 자체 신경망 계층을 만들려면 nn.Module을 상속해서 클래스를 정의하면 된다.\r\n",
        "  (nn.Module ; nn.Linear를 포함한 모든 계층의 기반 클래스)\r\n",
        "\r\n",
        "  - 커스텀 계층을 만들 때에 forward 메서드를 구현하면 자동 미분까지 가능해진다. "
      ]
    },
    {
      "cell_type": "code",
      "metadata": {
        "id": "gQsQqauJYmAN"
      },
      "source": [
        "class CustomLinear(nn.Module):\r\n",
        "  def __init__(self,in_features, out_features, bias = True, p = 0.5):\r\n",
        "    super().__init__()\r\n",
        "\r\n",
        "    self.linear = nn.Linear(in_features, out_features, bias)\r\n",
        "    self.relu = nn.ReLU()\r\n",
        "    self.drop = nn.Dropout(p)\r\n",
        "    \r\n",
        "    def forward(self,x):\r\n",
        "      x = self.linear(x)\r\n",
        "      x = self.relu(x)\r\n",
        "      x = self.drop(x)\r\n",
        "      return x\r\n",
        "\r\n",
        "\r\n",
        "mlp = nn.Sequential(\r\n",
        "    CustomLinear(64,200),\r\n",
        "    CustomLinear(200,200),\r\n",
        "    CustomLinear(200,10)\r\n",
        ")"
      ],
      "execution_count": null,
      "outputs": []
    },
    {
      "cell_type": "code",
      "metadata": {
        "id": "ydkH8aLvZYBd"
      },
      "source": [
        "# nn.Sequential을 사용하지 않고 nn.Module을 상속하여 클래스 내에서 모든 처리를 할 수 있음\r\n",
        "class MyMLP(nn.Module):\r\n",
        "  def __init__(self, in_features, out_features):\r\n",
        "    super().__init__()\r\n",
        "    self.ln1 = CustomLinear(in_features, 200)\r\n",
        "    self.ln2 = CustomLinear(200, 200)\r\n",
        "    self.ln3 = CustomLinear(200, 200)\r\n",
        "    self.ln4 = CustomLinear(200, out_features)\r\n",
        "\r\n",
        "  def forward(self,x):\r\n",
        "    x = self.ln1(x)\r\n",
        "    x = self.ln2(x)\r\n",
        "    x = self.ln3(x)\r\n",
        "    x = self.ln4(x)\r\n",
        "    return x\r\n",
        "  \r\n",
        "mlp = MyMLP(64,10)"
      ],
      "execution_count": null,
      "outputs": []
    }
  ]
}
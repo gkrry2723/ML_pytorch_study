{
  "nbformat": 4,
  "nbformat_minor": 0,
  "metadata": {
    "colab": {
      "name": "1. 머신러닝 과제 다시해보기.ipynb",
      "provenance": [],
      "collapsed_sections": [],
      "mount_file_id": "1uxvCqidhis_vXHQ6Sd1CVv1bLt47PR0O",
      "authorship_tag": "ABX9TyMfDeg7AZ2lqvBdJxLommJV",
      "include_colab_link": true
    },
    "kernelspec": {
      "name": "python3",
      "display_name": "Python 3"
    }
  },
  "cells": [
    {
      "cell_type": "markdown",
      "metadata": {
        "id": "view-in-github",
        "colab_type": "text"
      },
      "source": [
        "<a href=\"https://colab.research.google.com/github/gkrry2723/ML_pytorch_study/blob/master/1_%EB%A8%B8%EC%8B%A0%EB%9F%AC%EB%8B%9D_%EA%B3%BC%EC%A0%9C_%EB%8B%A4%EC%8B%9C%ED%95%B4%EB%B3%B4%EA%B8%B0.ipynb\" target=\"_parent\"><img src=\"https://colab.research.google.com/assets/colab-badge.svg\" alt=\"Open In Colab\"/></a>"
      ]
    },
    {
      "cell_type": "markdown",
      "metadata": {
        "id": "1GbimSVd-qgA"
      },
      "source": [
        "# **머신러닝 과제 다시 해보기 with pytorch**\r\n",
        "\r\n",
        "# Linear Regression 특집!"
      ]
    },
    {
      "cell_type": "markdown",
      "metadata": {
        "id": "4iYxDlR2-v8L"
      },
      "source": [
        "**과제 1. linear regression, cost function**\r\n",
        "\r\n",
        "\r\n",
        "- 임의의 리니어 함수 하나 정하여 검은색 포인트 찍기"
      ]
    },
    {
      "cell_type": "code",
      "metadata": {
        "colab": {
          "base_uri": "https://localhost:8080/",
          "height": 265
        },
        "id": "ozToJ_Qu_Ic9",
        "outputId": "76fa8d9c-4eb8-48ad-e99c-428b92bf8af9"
      },
      "source": [
        "import matplotlib.pyplot as plt\r\n",
        "import random\r\n",
        "\r\n",
        "x = range(-100,100)\r\n",
        "y = [v+1 for v in x]\r\n",
        "plt.plot(x,y)\r\n",
        "\r\n",
        "for i in range(0,100):\r\n",
        "  xp = random.uniform(-100,100)\r\n",
        "  yp = xp+1+random.gauss(0,30)\r\n",
        "  plt.scatter(xp,yp,c=\"black\",s=1)"
      ],
      "execution_count": null,
      "outputs": [
        {
          "output_type": "display_data",
          "data": {
            "image/png": "[encoded data removed]",
            "text/plain": [
              "<Figure size 432x288 with 1 Axes>"
            ]
          },
          "metadata": {
            "tags": [],
            "needs_background": "light"
          }
        }
      ]
    },
    {
      "cell_type": "markdown",
      "metadata": {
        "id": "D37lj_X5_r7k"
      },
      "source": [
        "- 위의 포인트들을 이용하여 h 함수 구하기"
      ]
    },
    {
      "cell_type": "code",
      "metadata": {
        "colab": {
          "base_uri": "https://localhost:8080/",
          "height": 300
        },
        "id": "-_mco45L-Alx",
        "outputId": "1d3a61a9-416a-4ab2-e601-57b73cb760c9"
      },
      "source": [
        "import torch\r\n",
        "from torch import nn\r\n",
        "\r\n",
        "#데이터 생성\r\n",
        "dataX = []\r\n",
        "dataY = []\r\n",
        "for i in range(0,100):\r\n",
        "  xp = random.uniform(-100,100)\r\n",
        "  yp = xp+1+random.gauss(0,30)\r\n",
        "  dataX.append(xp)\r\n",
        "  dataY.append(yp)\r\n",
        "  plt.scatter(dataX[i],dataY[i],c=\"black\",s=1)\r\n",
        "\r\n",
        "#진짜 답\r\n",
        "want = [1,1]\r\n",
        "#파라미터\r\n",
        "w = torch.randn(2,requires_grad=True)\r\n",
        "#데이터 준비\r\n",
        "t = torch.Tensor(dataX)\r\n",
        "t.unsqueeze_(1)\r\n",
        "f = torch.ones(len(dataX),1)\r\n",
        "X = torch.cat([torch.ones(len(dataX),1),t],1)\r\n",
        "y = torch.Tensor(dataY)\r\n",
        "\r\n",
        "#학습률\r\n",
        "gamma = 0.00001\r\n",
        "\r\n",
        "#학습 시작!\r\n",
        "losses = []\r\n",
        "\r\n",
        "for epoch in range(10000):\r\n",
        "  #전회의 grad를 초기화\r\n",
        "  w.grad = None\r\n",
        "\r\n",
        "  #선형모델로 y값을 예측\r\n",
        "  y_pred = torch.mv(X,w)\r\n",
        "  #print(y_pred.size())\r\n",
        "\r\n",
        "  #MSE loss와 w에 의한 미분을 계산\r\n",
        "  #J = 1/2m 시그마(h(x)-y)^2\r\n",
        "  loss = torch.mean((y-y_pred)**2)\r\n",
        "  loss.backward()\r\n",
        "\r\n",
        "  #경사를 갱신. 이때 w를 그대로 대입 ㄴㄴ. data만 갱신\r\n",
        "  #세타 = 세타 - a*기울기\r\n",
        "  w.data = w.data - gamma*w.grad.data\r\n",
        "\r\n",
        "  losses.append(loss.item())\r\n",
        "print(w)\r\n",
        "#plt.plot()\r\n",
        "\r\n",
        "x = range(-100,100)\r\n",
        "y = [v*w[1] + w[0] for v in x]\r\n",
        "plt.plot(x,y)\r\n",
        "#plt.plot(losses)"
      ],
      "execution_count": null,
      "outputs": [
        {
          "output_type": "stream",
          "text": [
            "tensor([0.3569, 0.9762], requires_grad=True)\n"
          ],
          "name": "stdout"
        },
        {
          "output_type": "execute_result",
          "data": {
            "text/plain": [
              "[<matplotlib.lines.Line2D at 0x7f003fecbda0>]"
            ]
          },
          "metadata": {
            "tags": []
          },
          "execution_count": 38
        },
        {
          "output_type": "display_data",
          "data": {
            "image/png": "[encoded data removed]",
            "text/plain": [
              "<Figure size 432x288 with 1 Axes>"
            ]
          },
          "metadata": {
            "tags": [],
            "needs_background": "light"
          }
        }
      ]
    },
    {
      "cell_type": "markdown",
      "metadata": {
        "id": "G_jwOiwb8chc"
      },
      "source": [
        "- 모듈(nn, optim)을 쓰면"
      ]
    },
    {
      "cell_type": "code",
      "metadata": {
        "id": "PMtEnileFCbn",
        "colab": {
          "base_uri": "https://localhost:8080/",
          "height": 317
        },
        "outputId": "79e1df38-93d6-4fe5-f8c7-e66d20f67fb1"
      },
      "source": [
        "import torch\r\n",
        "from torch import nn, optim\r\n",
        "import numpy as np\r\n",
        "\r\n",
        "#데이터 생성\r\n",
        "dataX = []\r\n",
        "dataY = []\r\n",
        "for i in range(0,100):\r\n",
        "  xp = random.uniform(-100,100)\r\n",
        "  yp = -4*xp+15+random.gauss(0,30)\r\n",
        "  dataX.append(xp)\r\n",
        "  dataY.append(yp)\r\n",
        "  plt.scatter(dataX[i],dataY[i],c=\"black\",s=1)\r\n",
        "\r\n",
        "#1. 데이터 준비\r\n",
        "t = torch.Tensor(dataX)\r\n",
        "t.unsqueeze_(1)\r\n",
        "f = torch.ones(len(dataX),1)\r\n",
        "X = torch.cat([torch.ones(len(dataX),1),t],1)\r\n",
        "y = torch.Tensor(dataY)\r\n",
        "\r\n",
        "\r\n",
        "#2. net 준비\r\n",
        "net = nn.Linear(2,1,bias=False)\r\n",
        "\r\n",
        "#3. loss function 준비\r\n",
        "loss_fn = nn.MSELoss()\r\n",
        "\r\n",
        "#4. optimizer 준비\r\n",
        "optimizer = optim.SGD(net.parameters(),lr = 0.000001)\r\n",
        "\r\n",
        "#학습 시작!\r\n",
        "losses = []\r\n",
        "\r\n",
        "for epoch in range(1000):\r\n",
        "  #1. 전회 grad 초기화\r\n",
        "  optimizer.zero_grad()\r\n",
        "  #2. y_pred 계산\r\n",
        "  y_pred = net(X)\r\n",
        "  #3. loss계산\r\n",
        "  loss = loss_fn(y_pred.view_as(y),y)\r\n",
        "  #4. backward\r\n",
        "  loss.backward()\r\n",
        "  #5. optim\r\n",
        "  optimizer.step()\r\n",
        "\r\n",
        "  losses.append(loss.item())\r\n",
        "\r\n",
        "#w, b = model.parameters()\r\n",
        "#w[0][0].item(), b[0].item()\r\n",
        "print(list(net.parameters()))\r\n",
        "\r\n",
        "para = list(net.parameters())\r\n",
        "a = para[0][0][0].item()\r\n",
        "b = para[0][0][1].item()\r\n",
        "\r\n",
        "x = range(-100,100)\r\n",
        "y = [v*b + a for v in x]\r\n",
        "plt.plot(x,y)\r\n",
        "#plt.plot(losses)"
      ],
      "execution_count": null,
      "outputs": [
        {
          "output_type": "stream",
          "text": [
            "[Parameter containing:\n",
            "tensor([[ 0.6022, -3.9707]], requires_grad=True)]\n"
          ],
          "name": "stdout"
        },
        {
          "output_type": "execute_result",
          "data": {
            "text/plain": [
              "[<matplotlib.lines.Line2D at 0x7f3e217cc710>]"
            ]
          },
          "metadata": {
            "tags": []
          },
          "execution_count": 142
        },
        {
          "output_type": "display_data",
          "data": {
            "image/png": "[encoded data removed]",
            "text/plain": [
              "<Figure size 432x288 with 1 Axes>"
            ]
          },
          "metadata": {
            "tags": [],
            "needs_background": "light"
          }
        }
      ]
    },
    {
      "cell_type": "markdown",
      "metadata": {
        "id": "SY196onVGOOL"
      },
      "source": [
        "**과제 2. linear regression, cost function**\r\n",
        "\r\n",
        "\r\n",
        "- 점은 주어져 있고 나는 코딩만 하면된다..."
      ]
    },
    {
      "cell_type": "code",
      "metadata": {
        "colab": {
          "base_uri": "https://localhost:8080/"
        },
        "id": "w8VgIpodHxiV",
        "outputId": "8bb32f60-e088-42e7-ab15-30f2797307c0"
      },
      "source": [
        "from google.colab import drive\r\n",
        "\r\n",
        "drive.mount(\"/content/gdrive\")"
      ],
      "execution_count": null,
      "outputs": [
        {
          "output_type": "stream",
          "text": [
            "Mounted at /content/gdrive\n"
          ],
          "name": "stdout"
        }
      ]
    },
    {
      "cell_type": "code",
      "metadata": {
        "id": "zt2S8KtwIsN5"
      },
      "source": [
        "import numpy as np\r\n",
        "import csv\r\n",
        "import matplotlib.pyplot as plt\r\n",
        "import random\r\n",
        "\r\n",
        "with open('/content/gdrive/MyDrive/ML_assignment/data_test.csv', newline=\"\") as myfile:\r\n",
        "  reader = csv.reader(myfile,delimiter=\",\")\r\n",
        "  test_data = []\r\n",
        "  test_y = []\r\n",
        "  for i in reader:\r\n",
        "    T = [float(i[0]), float(i[1]), float(i[2])]\r\n",
        "    Y = float(i[3])\r\n",
        "    test_data.append(T)\r\n",
        "    test_y.append(Y)\r\n",
        "test_len = len(test_data)\r\n",
        "\r\n",
        "with open('/content/gdrive/MyDrive/ML_assignment/data_train.csv', newline=\"\") as myfile:\r\n",
        "  reader = csv.reader(myfile,delimiter=\",\")\r\n",
        "  train_data = []\r\n",
        "  train_y = []\r\n",
        "  for i in reader:\r\n",
        "    T = [float(i[0]), float(i[1]), float(i[2])]\r\n",
        "    train_y.append(float(i[3]))\r\n",
        "    train_data.append(T)\r\n",
        "train_len = len(train_data)\r\n"
      ],
      "execution_count": null,
      "outputs": []
    },
    {
      "cell_type": "code",
      "metadata": {
        "id": "eWg_wGVYJqOL"
      },
      "source": [
        "import torch \r\n",
        "from torch import nn,optim\r\n",
        "\r\n",
        "X_test = torch.Tensor(test_data)\r\n",
        "X_train = torch.Tensor(train_data)\r\n",
        "\r\n",
        "Y_test = torch.Tensor(test_y)\r\n",
        "Y_train = torch.Tensor(train_y)\r\n",
        "\r\n",
        "net = nn.Linear(3,1,bias = True)\r\n",
        "\r\n",
        "loss_fn = nn.MSELoss()\r\n",
        "\r\n",
        "optimizer = optim.SGD(net.parameters(),lr = 0.000001)\r\n",
        "\r\n",
        "Trlosses = []\r\n",
        "Telosses = []\r\n",
        "acc = []\r\n",
        "#train\r\n",
        "for epoch in range(1000):\r\n",
        "  net.train()\r\n",
        "  optimizer.zero_grad()\r\n",
        "  y_pred = net(X_train)\r\n",
        "  loss = loss_fn(y_pred.view_as(Y_train),Y_train)\r\n",
        "  loss.backward()\r\n",
        "  optimizer.step()\r\n",
        "  Trlosses.append(loss)\r\n",
        "\r\n",
        "  #test\r\n",
        "  net.eval()\r\n",
        "  y_pred = net(X_test)\r\n",
        "  test_loss = loss_fn(y_pred.view_as(Y_test),Y_test)\r\n",
        "  Telosses.append(loss)\r\n",
        "\r\n",
        "#plt.plot(Trlosses)\r\n",
        "#plt.plot(Telosses)"
      ],
      "execution_count": null,
      "outputs": []
    },
    {
      "cell_type": "markdown",
      "metadata": {
        "id": "lszb8WkFhHD7"
      },
      "source": [
        "# **과제 3. 로지스틱 회귀 -> 점 classify하기**\r\n",
        "\r\n"
      ]
    },
    {
      "cell_type": "code",
      "metadata": {
        "colab": {
          "base_uri": "https://localhost:8080/"
        },
        "id": "VomRdijOhSQd",
        "outputId": "073e35e1-b857-42a8-be49-6a181ac8a681"
      },
      "source": [
        "from google.colab import drive\r\n",
        "drive.mount(\"/gdrive\")"
      ],
      "execution_count": null,
      "outputs": [
        {
          "output_type": "stream",
          "text": [
            "Mounted at /gdrive\n"
          ],
          "name": "stdout"
        }
      ]
    },
    {
      "cell_type": "code",
      "metadata": {
        "colab": {
          "base_uri": "https://localhost:8080/",
          "height": 483
        },
        "id": "SV4GVjuXhU3z",
        "outputId": "0388e625-b1b2-4122-c36c-50000404395c"
      },
      "source": [
        "import numpy as np\r\n",
        "import matplotlib.pyplot as plt\r\n",
        "\r\n",
        "data    = np.genfromtxt(\"/gdrive/My Drive/ML_assignment/data-nonlinear.txt\", delimiter=',')\r\n",
        "\r\n",
        "m=len(data)\r\n",
        "\r\n",
        "x  = data[:, 0]\r\n",
        "y  = data[:, 1]\r\n",
        "label   = data[:, 2]\r\n",
        "\r\n",
        "pointX0 = x[label == 0]\r\n",
        "pointY0 = y[label == 0]\r\n",
        "\r\n",
        "pointX1 = x[label == 1]\r\n",
        "pointY1 = y[label == 1]\r\n",
        "\r\n",
        "plt.figure(figsize=(8, 8))\r\n",
        "plt.scatter(pointX0, pointY0, c='b')\r\n",
        "plt.scatter(pointX1, pointY1, c='r')\r\n",
        "#plt.tight_layout()\r\n",
        "#plt.gca().set_aspect('equal', adjustable='box')\r\n",
        "plt.show()\r\n"
      ],
      "execution_count": null,
      "outputs": [
        {
          "output_type": "display_data",
          "data": {
            "image/png": "[encoded data removed]",
            "text/plain": [
              "<Figure size 576x576 with 1 Axes>"
            ]
          },
          "metadata": {
            "tags": [],
            "needs_background": "light"
          }
        }
      ]
    },
    {
      "cell_type": "code",
      "metadata": {
        "colab": {
          "base_uri": "https://localhost:8080/"
        },
        "id": "BvnzFHKdi7OP",
        "outputId": "d283c645-cbed-4db0-cd98-67cde9996dcc"
      },
      "source": [
        "import torch\r\n",
        "from torch import nn,optim\r\n",
        "\r\n",
        "x  = data[:, 0]\r\n",
        "y  = data[:, 1]\r\n",
        "x2 = [i**2 for i in x]\r\n",
        "y2 = [i**2 for i in y]\r\n",
        "xy = [x[i]*y[i] for i in range(len(x))]\r\n",
        "label   = data[:, 2]\r\n",
        "\r\n",
        "f = torch.ones(len(x))\r\n",
        "a = torch.Tensor(x)\r\n",
        "b = torch.Tensor(y)\r\n",
        "c = torch.Tensor(x2)\r\n",
        "d = torch.Tensor(y2)\r\n",
        "e = torch.Tensor(xy)\r\n",
        "Y = torch.Tensor(label)\r\n",
        "\r\n",
        "a.unsqueeze_(1)\r\n",
        "b.unsqueeze_(1)\r\n",
        "c.unsqueeze_(1)\r\n",
        "d.unsqueeze_(1)\r\n",
        "e.unsqueeze_(1)\r\n",
        "f.unsqueeze_(1)\r\n",
        "Y.unsqueeze_(1)\r\n",
        "\r\n",
        "X = torch.cat([f,a,b,c,d,e],1)\r\n",
        "\r\n",
        "print(X.size())\r\n",
        "print(Y.size())\r\n"
      ],
      "execution_count": null,
      "outputs": [
        {
          "output_type": "stream",
          "text": [
            "torch.Size([118, 6])\n",
            "torch.Size([118, 1])\n"
          ],
          "name": "stdout"
        }
      ]
    },
    {
      "cell_type": "code",
      "metadata": {
        "colab": {
          "base_uri": "https://localhost:8080/",
          "height": 457
        },
        "id": "gPOdzWIXmcLC",
        "outputId": "bb31eba6-9b4f-4fbe-dddd-9f7617da471a"
      },
      "source": [
        "net = nn.Linear(6,1,bias=False)\r\n",
        "loss_fn = nn.BCEWithLogitsLoss()\r\n",
        "optimizer = optim.SGD(net.parameters(),lr=0.5)\r\n",
        "losses=[]\r\n",
        "\r\n",
        "for epoc in range(10000):\r\n",
        "  optimizer.zero_grad()\r\n",
        "  y_pred = net(X)\r\n",
        "  loss = loss_fn(y_pred,Y)\r\n",
        "  loss.backward()\r\n",
        "  optimizer.step()\r\n",
        "  losses.append(loss)\r\n",
        "\r\n",
        "  if epoc%1000 == 0:\r\n",
        "    h = net(X)\r\n",
        "    prob = torch.sigmoid(h)\r\n",
        "    y_pred = prob>0.5\r\n",
        "    acc = (y_pred == Y).sum().item() / len(Y)\r\n",
        "    print(acc)\r\n",
        "plt.plot(losses)"
      ],
      "execution_count": null,
      "outputs": [
        {
          "output_type": "stream",
          "text": [
            "0.5338983050847458\n",
            "0.8220338983050848\n",
            "0.8389830508474576\n",
            "0.8559322033898306\n",
            "0.8559322033898306\n",
            "0.8559322033898306\n",
            "0.8559322033898306\n",
            "0.8559322033898306\n",
            "0.8559322033898306\n",
            "0.8559322033898306\n"
          ],
          "name": "stdout"
        },
        {
          "output_type": "execute_result",
          "data": {
            "text/plain": [
              "[<matplotlib.lines.Line2D at 0x7fa55b4ec5c0>]"
            ]
          },
          "metadata": {
            "tags": []
          },
          "execution_count": 7
        },
        {
          "output_type": "display_data",
          "data": {
            "image/png": "[encoded data removed]",
            "text/plain": [
              "<Figure size 432x288 with 1 Axes>"
            ]
          },
          "metadata": {
            "tags": [],
            "needs_background": "light"
          }
        }
      ]
    },
    {
      "cell_type": "code",
      "metadata": {
        "colab": {
          "base_uri": "https://localhost:8080/",
          "height": 317
        },
        "id": "44D92QlWo9qV",
        "outputId": "318b8ba3-a74d-4069-d426-61fe3a21c78a"
      },
      "source": [
        "plt.scatter(pointX0, pointY0, c='b')\r\n",
        "plt.scatter(pointX1, pointY1, c='r')\r\n",
        "xx = np.linspace(-1.0, 1.0, 100)\r\n",
        "yy = np.linspace(-1.0, 1.0, 100)\r\n",
        "X, Y = np.meshgrid(xx,yy)\r\n",
        "para = list(net.parameters())\r\n",
        "print(para)\r\n",
        "a = para[0][0][0].item()\r\n",
        "b = para[0][0][1].item()\r\n",
        "c = para[0][0][2].item()\r\n",
        "d = para[0][0][3].item()\r\n",
        "e = para[0][0][4].item()\r\n",
        "f = para[0][0][5].item()\r\n",
        "\r\n",
        "F = 1*a + b*X + c*Y + d*(X**2) + e*(Y**2) + f*X*Y\r\n",
        "#F = 1*f + e*X + d*Y + c*(X**2) + b*(Y**2) + a*X*Y\r\n",
        "plt.contour(X,Y,F,[0],cmap=plt.cm.summer)\r\n",
        "plt.show()"
      ],
      "execution_count": null,
      "outputs": [
        {
          "output_type": "stream",
          "text": [
            "[Parameter containing:\n",
            "tensor([[  5.0945,   3.1890,   4.0966, -11.8510, -11.6373,  -7.3874]],\n",
            "       requires_grad=True)]\n"
          ],
          "name": "stdout"
        },
        {
          "output_type": "display_data",
          "data": {
            "image/png": "[encoded data removed]",
            "text/plain": [
              "<Figure size 432x288 with 1 Axes>"
            ]
          },
          "metadata": {
            "tags": [],
            "needs_background": "light"
          }
        }
      ]
    },
    {
      "cell_type": "markdown",
      "metadata": {
        "id": "21Megfu5sPpI"
      },
      "source": [
        "# **과제 4. MNIST 숫자 분류**"
      ]
    },
    {
      "cell_type": "code",
      "metadata": {
        "colab": {
          "base_uri": "https://localhost:8080/",
          "height": 457
        },
        "id": "9QsKqTO99Fxj",
        "outputId": "b100918a-3a97-428b-d812-5733bad01250"
      },
      "source": [
        "import torch\r\n",
        "from torch import nn,optim\r\n",
        "from sklearn.datasets import load_digits\r\n",
        "\r\n",
        "digits = load_digits()\r\n",
        "\r\n",
        "X = digits.data\r\n",
        "Y = digits.target\r\n",
        "\r\n",
        "X = torch.tensor(X,dtype = torch.float32)\r\n",
        "Y = torch.tensor(Y,dtype = torch.int64)\r\n",
        "\r\n",
        "# 다구현하고 나서 차이 봅시다\r\n",
        "# X = torch.Tensor(X)\r\n",
        "# Y = torch.Tensor(Y)\r\n",
        "\r\n",
        "net = nn.Sequential(\r\n",
        "    nn.Linear(64,32),\r\n",
        "    nn.ReLU(),\r\n",
        "    nn.Linear(32,16),\r\n",
        "    nn.ReLU(),\r\n",
        "    nn.Linear(16,10),\r\n",
        "    nn.ReLU()\r\n",
        ")\r\n",
        "#소프트맥스 크로스 엔트로피\r\n",
        "loss_fn = nn.CrossEntropyLoss()\r\n",
        "optimizer = optim.Adam(net.parameters())\r\n",
        "losses = []\r\n",
        "\r\n",
        "for epoc in range(1000):\r\n",
        "  optimizer.zero_grad()\r\n",
        "  y_pred = net(X)\r\n",
        "  loss = loss_fn(y_pred,Y)\r\n",
        "  loss.backward()\r\n",
        "  optimizer.step()\r\n",
        "  losses.append(loss.item())\r\n",
        "  \r\n",
        "  if epoc %100 == 0:\r\n",
        "    _, y_pred = torch.max(net(X),1)\r\n",
        "    acc = (Y==y_pred).sum().item() / len(Y)\r\n",
        "    print(acc)\r\n",
        "\r\n",
        "plt.plot(losses)\r\n",
        "\r\n",
        "\r\n"
      ],
      "execution_count": null,
      "outputs": [
        {
          "output_type": "stream",
          "text": [
            "0.15525876460767946\n",
            "0.9398998330550918\n",
            "0.988313856427379\n",
            "0.9977740678909294\n",
            "1.0\n",
            "1.0\n",
            "1.0\n",
            "1.0\n",
            "1.0\n",
            "1.0\n"
          ],
          "name": "stdout"
        },
        {
          "output_type": "execute_result",
          "data": {
            "text/plain": [
              "[<matplotlib.lines.Line2D at 0x7fa53e849048>]"
            ]
          },
          "metadata": {
            "tags": []
          },
          "execution_count": 39
        },
        {
          "output_type": "display_data",
          "data": {
            "image/png": "[encoded data removed]",
            "text/plain": [
              "<Figure size 432x288 with 1 Axes>"
            ]
          },
          "metadata": {
            "tags": [],
            "needs_background": "light"
          }
        }
      ]
    }
  ]
}